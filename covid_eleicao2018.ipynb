{
 "cells": [
  {
   "cell_type": "markdown",
   "id": "positive-modification",
   "metadata": {
    "heading_collapsed": true
   },
   "source": [
    "# 0.0 IMPORTS"
   ]
  },
  {
   "cell_type": "code",
   "execution_count": 2,
   "id": "recognized-bolivia",
   "metadata": {
    "ExecuteTime": {
     "end_time": "2021-04-08T18:43:56.481474Z",
     "start_time": "2021-04-08T18:43:51.845656Z"
    },
    "hidden": true
   },
   "outputs": [
    {
     "name": "stdout",
     "output_type": "stream",
     "text": [
      "Requirement already satisfied: pandas in c:\\users\\rodri\\anaconda3\\envs\\covid_eleicao2018\\lib\\site-packages (1.2.3)\n",
      "Requirement already satisfied: numpy>=1.16.5 in c:\\users\\rodri\\anaconda3\\envs\\covid_eleicao2018\\lib\\site-packages (from pandas) (1.20.2)\n",
      "Requirement already satisfied: python-dateutil>=2.7.3 in c:\\users\\rodri\\anaconda3\\envs\\covid_eleicao2018\\lib\\site-packages (from pandas) (2.8.1)\n",
      "Requirement already satisfied: pytz>=2017.3 in c:\\users\\rodri\\anaconda3\\envs\\covid_eleicao2018\\lib\\site-packages (from pandas) (2021.1)\n",
      "Requirement already satisfied: six>=1.5 in c:\\users\\rodri\\anaconda3\\envs\\covid_eleicao2018\\lib\\site-packages (from python-dateutil>=2.7.3->pandas) (1.15.0)\n",
      "Requirement already satisfied: seaborn in c:\\users\\rodri\\anaconda3\\envs\\covid_eleicao2018\\lib\\site-packages (0.11.1)\n",
      "Requirement already satisfied: pandas>=0.23 in c:\\users\\rodri\\anaconda3\\envs\\covid_eleicao2018\\lib\\site-packages (from seaborn) (1.2.3)\n",
      "Requirement already satisfied: scipy>=1.0 in c:\\users\\rodri\\anaconda3\\envs\\covid_eleicao2018\\lib\\site-packages (from seaborn) (1.6.2)\n",
      "Requirement already satisfied: matplotlib>=2.2 in c:\\users\\rodri\\anaconda3\\envs\\covid_eleicao2018\\lib\\site-packages (from seaborn) (3.4.1)\n",
      "Requirement already satisfied: numpy>=1.15 in c:\\users\\rodri\\anaconda3\\envs\\covid_eleicao2018\\lib\\site-packages (from seaborn) (1.20.2)\n",
      "Requirement already satisfied: cycler>=0.10 in c:\\users\\rodri\\anaconda3\\envs\\covid_eleicao2018\\lib\\site-packages (from matplotlib>=2.2->seaborn) (0.10.0)\n",
      "Requirement already satisfied: python-dateutil>=2.7 in c:\\users\\rodri\\anaconda3\\envs\\covid_eleicao2018\\lib\\site-packages (from matplotlib>=2.2->seaborn) (2.8.1)\n",
      "Requirement already satisfied: kiwisolver>=1.0.1 in c:\\users\\rodri\\anaconda3\\envs\\covid_eleicao2018\\lib\\site-packages (from matplotlib>=2.2->seaborn) (1.3.1)\n",
      "Requirement already satisfied: pillow>=6.2.0 in c:\\users\\rodri\\anaconda3\\envs\\covid_eleicao2018\\lib\\site-packages (from matplotlib>=2.2->seaborn) (8.1.2)\n",
      "Requirement already satisfied: pyparsing>=2.2.1 in c:\\users\\rodri\\anaconda3\\envs\\covid_eleicao2018\\lib\\site-packages (from matplotlib>=2.2->seaborn) (2.4.7)\n",
      "Requirement already satisfied: six in c:\\users\\rodri\\anaconda3\\envs\\covid_eleicao2018\\lib\\site-packages (from cycler>=0.10->matplotlib>=2.2->seaborn) (1.15.0)\n",
      "Requirement already satisfied: pytz>=2017.3 in c:\\users\\rodri\\anaconda3\\envs\\covid_eleicao2018\\lib\\site-packages (from pandas>=0.23->seaborn) (2021.1)\n",
      "Requirement already satisfied: inflection in c:\\users\\rodri\\anaconda3\\envs\\covid_eleicao2018\\lib\\site-packages (0.5.1)\n",
      "Requirement already satisfied: scipy in c:\\users\\rodri\\anaconda3\\envs\\covid_eleicao2018\\lib\\site-packages (1.6.2)\n",
      "Requirement already satisfied: numpy<1.23.0,>=1.16.5 in c:\\users\\rodri\\anaconda3\\envs\\covid_eleicao2018\\lib\\site-packages (from scipy) (1.20.2)\n"
     ]
    }
   ],
   "source": [
    "# Installing libraries\n",
    "!pip install pandas\n",
    "!pip install seaborn\n",
    "!pip install inflection\n",
    "!pip install scipy"
   ]
  },
  {
   "cell_type": "code",
   "execution_count": 3,
   "id": "attractive-bottle",
   "metadata": {
    "ExecuteTime": {
     "end_time": "2021-04-08T18:44:00.773742Z",
     "start_time": "2021-04-08T18:43:56.482520Z"
    },
    "hidden": true
   },
   "outputs": [],
   "source": [
    "# Importing libraries\n",
    "import pandas as pd\n",
    "import numpy as np\n",
    "import math\n",
    "import seaborn as sns\n",
    "import inflection\n",
    "import matplotlib.pyplot as plt\n",
    "from scipy.stats import pearsonr"
   ]
  },
  {
   "cell_type": "markdown",
   "id": "engaging-pencil",
   "metadata": {
    "hidden": true
   },
   "source": [
    "## 0.1 Helper functions"
   ]
  },
  {
   "cell_type": "markdown",
   "id": "pressing-thesis",
   "metadata": {
    "hidden": true
   },
   "source": [
    "## 0.2 Loading data"
   ]
  },
  {
   "cell_type": "code",
   "execution_count": 4,
   "id": "fifth-rapid",
   "metadata": {
    "ExecuteTime": {
     "end_time": "2021-04-08T18:44:03.300398Z",
     "start_time": "2021-04-08T18:44:00.774777Z"
    },
    "hidden": true
   },
   "outputs": [],
   "source": [
    "# Covid's dataset\n",
    "df_covid = pd.read_csv(r'C:\\Users\\rodri\\repos\\covid_eleicao2018\\HIST_PAINEL_COVIDBR_17mar2021.csv', sep = ';')"
   ]
  },
  {
   "cell_type": "code",
   "execution_count": 5,
   "id": "billion-anatomy",
   "metadata": {
    "ExecuteTime": {
     "end_time": "2021-04-08T18:44:03.394423Z",
     "start_time": "2021-04-08T18:44:03.301430Z"
    },
    "hidden": true
   },
   "outputs": [],
   "source": [
    "# Election's datasets\n",
    "df_br = pd.read_csv(r'C:\\Users\\rodri\\repos\\covid_eleicao2018\\eleicao2018_1turno_BR.csv', sep = ';', encoding = 'latin1')\n",
    "df_ex = pd.read_csv(r'C:\\Users\\rodri\\repos\\covid_eleicao2018\\eleicao2018_1turno_EXTERIOR.csv', sep = ';', encoding = 'latin1')\n",
    "df_ac = pd.read_csv(r'C:\\Users\\rodri\\repos\\covid_eleicao2018\\eleicao2018_1turno_AC.csv', sep = ';', encoding = 'latin1')\n",
    "df_al = pd.read_csv(r'C:\\Users\\rodri\\repos\\covid_eleicao2018\\eleicao2018_1turno_AL.csv', sep = ';', encoding = 'latin1')\n",
    "df_am = pd.read_csv(r'C:\\Users\\rodri\\repos\\covid_eleicao2018\\eleicao2018_1turno_AM.csv', sep = ';', encoding = 'latin1')\n",
    "df_ap = pd.read_csv(r'C:\\Users\\rodri\\repos\\covid_eleicao2018\\eleicao2018_1turno_AP.csv', sep = ';', encoding = 'latin1')\n",
    "df_ba = pd.read_csv(r'C:\\Users\\rodri\\repos\\covid_eleicao2018\\eleicao2018_1turno_BA.csv', sep = ';', encoding = 'latin1')\n",
    "df_ce = pd.read_csv(r'C:\\Users\\rodri\\repos\\covid_eleicao2018\\eleicao2018_1turno_CE.csv', sep = ';', encoding = 'latin1')\n",
    "df_df = pd.read_csv(r'C:\\Users\\rodri\\repos\\covid_eleicao2018\\eleicao2018_1turno_DF.csv', sep = ';', encoding = 'latin1')\n",
    "df_es = pd.read_csv(r'C:\\Users\\rodri\\repos\\covid_eleicao2018\\eleicao2018_1turno_ES.csv', sep = ';', encoding = 'latin1')\n",
    "df_go = pd.read_csv(r'C:\\Users\\rodri\\repos\\covid_eleicao2018\\eleicao2018_1turno_GO.csv', sep = ';', encoding = 'latin1')\n",
    "df_ma = pd.read_csv(r'C:\\Users\\rodri\\repos\\covid_eleicao2018\\eleicao2018_1turno_MA.csv', sep = ';', encoding = 'latin1')\n",
    "df_mg = pd.read_csv(r'C:\\Users\\rodri\\repos\\covid_eleicao2018\\eleicao2018_1turno_MG.csv', sep = ';', encoding = 'latin1')\n",
    "df_ms = pd.read_csv(r'C:\\Users\\rodri\\repos\\covid_eleicao2018\\eleicao2018_1turno_MS.csv', sep = ';', encoding = 'latin1')\n",
    "df_mt = pd.read_csv(r'C:\\Users\\rodri\\repos\\covid_eleicao2018\\eleicao2018_1turno_MT.csv', sep = ';', encoding = 'latin1')\n",
    "df_pa = pd.read_csv(r'C:\\Users\\rodri\\repos\\covid_eleicao2018\\eleicao2018_1turno_PA.csv', sep = ';', encoding = 'latin1')\n",
    "df_pb = pd.read_csv(r'C:\\Users\\rodri\\repos\\covid_eleicao2018\\eleicao2018_1turno_PB.csv', sep = ';', encoding = 'latin1')\n",
    "df_pe = pd.read_csv(r'C:\\Users\\rodri\\repos\\covid_eleicao2018\\eleicao2018_1turno_PE.csv', sep = ';', encoding = 'latin1')\n",
    "df_pi = pd.read_csv(r'C:\\Users\\rodri\\repos\\covid_eleicao2018\\eleicao2018_1turno_PI.csv', sep = ';', encoding = 'latin1')\n",
    "df_pr = pd.read_csv(r'C:\\Users\\rodri\\repos\\covid_eleicao2018\\eleicao2018_1turno_PR.csv', sep = ';', encoding = 'latin1')\n",
    "df_rj = pd.read_csv(r'C:\\Users\\rodri\\repos\\covid_eleicao2018\\eleicao2018_1turno_RJ.csv', sep = ';', encoding = 'latin1')\n",
    "df_rn = pd.read_csv(r'C:\\Users\\rodri\\repos\\covid_eleicao2018\\eleicao2018_1turno_RN.csv', sep = ';', encoding = 'latin1')\n",
    "df_ro = pd.read_csv(r'C:\\Users\\rodri\\repos\\covid_eleicao2018\\eleicao2018_1turno_RO.csv', sep = ';', encoding = 'latin1')\n",
    "df_rr = pd.read_csv(r'C:\\Users\\rodri\\repos\\covid_eleicao2018\\eleicao2018_1turno_RR.csv', sep = ';', encoding = 'latin1')\n",
    "df_rs = pd.read_csv(r'C:\\Users\\rodri\\repos\\covid_eleicao2018\\eleicao2018_1turno_RS.csv', sep = ';', encoding = 'latin1')\n",
    "df_sc = pd.read_csv(r'C:\\Users\\rodri\\repos\\covid_eleicao2018\\eleicao2018_1turno_SC.csv', sep = ';', encoding = 'latin1')\n",
    "df_se = pd.read_csv(r'C:\\Users\\rodri\\repos\\covid_eleicao2018\\eleicao2018_1turno_SE.csv', sep = ';', encoding = 'latin1')\n",
    "df_sp = pd.read_csv(r'C:\\Users\\rodri\\repos\\covid_eleicao2018\\eleicao2018_1turno_SP.csv', sep = ';', encoding = 'latin1')\n",
    "df_to = pd.read_csv(r'C:\\Users\\rodri\\repos\\covid_eleicao2018\\eleicao2018_1turno_TO.csv', sep = ';', encoding = 'latin1')"
   ]
  },
  {
   "cell_type": "code",
   "execution_count": 6,
   "id": "focused-category",
   "metadata": {
    "ExecuteTime": {
     "end_time": "2021-04-08T18:44:03.457901Z",
     "start_time": "2021-04-08T18:44:03.398419Z"
    },
    "hidden": true
   },
   "outputs": [
    {
     "data": {
      "text/plain": [
       "array(['EXT', 'AC', 'AL', 'AM', 'AP', 'BA', 'CE', 'DF', 'ES', 'GO', 'MA',\n",
       "       'MG', 'MS', 'MT', 'PA', 'PB', 'PE', 'PI', 'PR', 'RJ', 'RN', 'RO',\n",
       "       'RR', 'RS', 'SC', 'SE', 'SP', 'TO'], dtype=object)"
      ]
     },
     "execution_count": 6,
     "metadata": {},
     "output_type": "execute_result"
    }
   ],
   "source": [
    "# Creating a new columns (UF) in each dataset\n",
    "df_br['UF'] = 'BR'\n",
    "df_ex['UF'] = 'EXT'\n",
    "df_ac['UF'] = 'AC'\n",
    "df_al['UF'] = 'AL'\n",
    "df_am['UF'] = 'AM'\n",
    "df_ap['UF'] = 'AP'\n",
    "df_ba['UF'] = 'BA'\n",
    "df_ce['UF'] = 'CE'\n",
    "df_df['UF'] = 'DF'\n",
    "df_es['UF'] = 'ES'\n",
    "df_go['UF'] = 'GO'\n",
    "df_ma['UF'] = 'MA'\n",
    "df_mg['UF'] = 'MG'\n",
    "df_ms['UF'] = 'MS'\n",
    "df_mt['UF'] = 'MT'\n",
    "df_pa['UF'] = 'PA'\n",
    "df_pb['UF'] = 'PB'\n",
    "df_pe['UF'] = 'PE'\n",
    "df_pi['UF'] = 'PI'\n",
    "df_pr['UF'] = 'PR'\n",
    "df_rj['UF'] = 'RJ'\n",
    "df_rn['UF'] = 'RN'\n",
    "df_ro['UF'] = 'RO'\n",
    "df_rr['UF'] = 'RR'\n",
    "df_rs['UF'] = 'RS'\n",
    "df_sc['UF'] = 'SC'\n",
    "df_se['UF'] = 'SE'\n",
    "df_sp['UF'] = 'SP'\n",
    "df_to['UF'] = 'TO'\n",
    "\n",
    "# Concating all dataset but df_br\n",
    "df_election = pd.concat([df_ex, df_ac, df_al, df_am, df_ap, df_ba, df_ce, df_df, df_es, df_go, df_ma, df_mg, df_ms, df_mt, \n",
    "                         df_pa, df_pb, df_pe, df_pi, df_pr, df_rj, df_rn, df_ro, df_rr, df_rs, df_sc, df_se, df_sp, df_to]\n",
    "                       ).reset_index()\n",
    "                        \n",
    "# Checking all UF (.unique())\n",
    "df_election['UF'].unique()"
   ]
  },
  {
   "cell_type": "code",
   "execution_count": 7,
   "id": "progressive-stage",
   "metadata": {
    "ExecuteTime": {
     "end_time": "2021-04-08T18:44:03.600700Z",
     "start_time": "2021-04-08T18:44:03.458866Z"
    },
    "hidden": true
   },
   "outputs": [
    {
     "name": "stderr",
     "output_type": "stream",
     "text": [
      "<ipython-input-7-fdfb7a21a21c>:8: SettingWithCopyWarning: \n",
      "A value is trying to be set on a copy of a slice from a DataFrame\n",
      "\n",
      "See the caveats in the documentation: https://pandas.pydata.org/pandas-docs/stable/user_guide/indexing.html#returning-a-view-versus-a-copy\n",
      "  df_election['region'][i] = 'exterior'\n",
      "<ipython-input-7-fdfb7a21a21c>:20: SettingWithCopyWarning: \n",
      "A value is trying to be set on a copy of a slice from a DataFrame\n",
      "\n",
      "See the caveats in the documentation: https://pandas.pydata.org/pandas-docs/stable/user_guide/indexing.html#returning-a-view-versus-a-copy\n",
      "  df_election['region'][i] = 'norte'\n",
      "<ipython-input-7-fdfb7a21a21c>:23: SettingWithCopyWarning: \n",
      "A value is trying to be set on a copy of a slice from a DataFrame\n",
      "\n",
      "See the caveats in the documentation: https://pandas.pydata.org/pandas-docs/stable/user_guide/indexing.html#returning-a-view-versus-a-copy\n",
      "  df_election['region'][i] = 'nordeste'\n",
      "<ipython-input-7-fdfb7a21a21c>:14: SettingWithCopyWarning: \n",
      "A value is trying to be set on a copy of a slice from a DataFrame\n",
      "\n",
      "See the caveats in the documentation: https://pandas.pydata.org/pandas-docs/stable/user_guide/indexing.html#returning-a-view-versus-a-copy\n",
      "  df_election['region'][i] = 'sudeste'\n",
      "<ipython-input-7-fdfb7a21a21c>:17: SettingWithCopyWarning: \n",
      "A value is trying to be set on a copy of a slice from a DataFrame\n",
      "\n",
      "See the caveats in the documentation: https://pandas.pydata.org/pandas-docs/stable/user_guide/indexing.html#returning-a-view-versus-a-copy\n",
      "  df_election['region'][i] = 'centro_oeste'\n",
      "<ipython-input-7-fdfb7a21a21c>:11: SettingWithCopyWarning: \n",
      "A value is trying to be set on a copy of a slice from a DataFrame\n",
      "\n",
      "See the caveats in the documentation: https://pandas.pydata.org/pandas-docs/stable/user_guide/indexing.html#returning-a-view-versus-a-copy\n",
      "  df_election['region'][i] = 'sul'\n"
     ]
    }
   ],
   "source": [
    "# Creating a new column (region)\n",
    "#df_election['region'] = df_election['UF'].apply(lambda x: 'exterior' if x['UF'] == 'EXT')\n",
    "\n",
    "df_election['region'] = ''\n",
    "\n",
    "for i in range(len(df_election)):\n",
    "    if df_election['UF'][i] == 'EXT':\n",
    "        df_election['region'][i] = 'exterior'\n",
    "        \n",
    "    elif df_election['UF'][i] in list(['SC', 'PR', 'RS']):\n",
    "        df_election['region'][i] = 'sul'\n",
    "\n",
    "    elif df_election['UF'][i] in list(['RJ', 'MG', 'SP', 'ES']):\n",
    "        df_election['region'][i] = 'sudeste'\n",
    "        \n",
    "    elif df_election['UF'][i] in list(['GO', 'MT', 'MS']):\n",
    "        df_election['region'][i] = 'centro_oeste'\n",
    "        \n",
    "    elif df_election['UF'][i] in list(['AC', 'AP', 'AM', 'PA', 'RO', 'RR', 'TO']):\n",
    "        df_election['region'][i] = 'norte'\n",
    "        \n",
    "    else:\n",
    "        df_election['region'][i] = 'nordeste'"
   ]
  },
  {
   "cell_type": "code",
   "execution_count": 8,
   "id": "incident-rhythm",
   "metadata": {
    "ExecuteTime": {
     "end_time": "2021-04-08T18:44:03.616413Z",
     "start_time": "2021-04-08T18:44:03.601706Z"
    },
    "hidden": true
   },
   "outputs": [
    {
     "data": {
      "text/plain": [
       "array(['exterior', 'norte', 'nordeste', 'sudeste', 'centro_oeste', 'sul'],\n",
       "      dtype=object)"
      ]
     },
     "execution_count": 8,
     "metadata": {},
     "output_type": "execute_result"
    }
   ],
   "source": [
    "df_election['region'].unique()"
   ]
  },
  {
   "cell_type": "code",
   "execution_count": 9,
   "id": "gentle-spain",
   "metadata": {
    "ExecuteTime": {
     "end_time": "2021-04-08T18:44:03.648379Z",
     "start_time": "2021-04-08T18:44:03.622358Z"
    },
    "hidden": true
   },
   "outputs": [
    {
     "data": {
      "text/html": [
       "<div>\n",
       "<style scoped>\n",
       "    .dataframe tbody tr th:only-of-type {\n",
       "        vertical-align: middle;\n",
       "    }\n",
       "\n",
       "    .dataframe tbody tr th {\n",
       "        vertical-align: top;\n",
       "    }\n",
       "\n",
       "    .dataframe thead th {\n",
       "        text-align: right;\n",
       "    }\n",
       "</style>\n",
       "<table border=\"1\" class=\"dataframe\">\n",
       "  <thead>\n",
       "    <tr style=\"text-align: right;\">\n",
       "      <th></th>\n",
       "      <th>index</th>\n",
       "      <th>Seq.   (i)</th>\n",
       "      <th>Núm.</th>\n",
       "      <th>Candidato</th>\n",
       "      <th>Partido/Coligação</th>\n",
       "      <th>Votação</th>\n",
       "      <th>% Válidos</th>\n",
       "      <th>UF</th>\n",
       "      <th>region</th>\n",
       "    </tr>\n",
       "  </thead>\n",
       "  <tbody>\n",
       "    <tr>\n",
       "      <th>0</th>\n",
       "      <td>0</td>\n",
       "      <td>*0001</td>\n",
       "      <td>17</td>\n",
       "      <td>JAIR BOLSONARO</td>\n",
       "      <td>PSL - PSL / PRTB</td>\n",
       "      <td>113.69</td>\n",
       "      <td>58,79 %</td>\n",
       "      <td>EXT</td>\n",
       "      <td>exterior</td>\n",
       "    </tr>\n",
       "    <tr>\n",
       "      <th>1</th>\n",
       "      <td>1</td>\n",
       "      <td>*0002</td>\n",
       "      <td>13</td>\n",
       "      <td>FERNANDO HADDAD</td>\n",
       "      <td>PT - PT / PC do B / PROS</td>\n",
       "      <td>19.54</td>\n",
       "      <td>10,10 %</td>\n",
       "      <td>EXT</td>\n",
       "      <td>exterior</td>\n",
       "    </tr>\n",
       "    <tr>\n",
       "      <th>2</th>\n",
       "      <td>2</td>\n",
       "      <td>0003</td>\n",
       "      <td>12</td>\n",
       "      <td>CIRO GOMES</td>\n",
       "      <td>PDT - PDT / AVANTE</td>\n",
       "      <td>28.073</td>\n",
       "      <td>14,52 %</td>\n",
       "      <td>EXT</td>\n",
       "      <td>exterior</td>\n",
       "    </tr>\n",
       "    <tr>\n",
       "      <th>3</th>\n",
       "      <td>3</td>\n",
       "      <td>0004</td>\n",
       "      <td>30</td>\n",
       "      <td>JOÃO AMOÊDO</td>\n",
       "      <td>NOVO</td>\n",
       "      <td>13.637</td>\n",
       "      <td>7,05 %</td>\n",
       "      <td>EXT</td>\n",
       "      <td>exterior</td>\n",
       "    </tr>\n",
       "    <tr>\n",
       "      <th>4</th>\n",
       "      <td>4</td>\n",
       "      <td>0005</td>\n",
       "      <td>45</td>\n",
       "      <td>GERALDO ALCKMIN</td>\n",
       "      <td>PSDB - PSDB / PTB / PP / PR / DEM / SOLIDARIED...</td>\n",
       "      <td>6.668</td>\n",
       "      <td>3,45 %</td>\n",
       "      <td>EXT</td>\n",
       "      <td>exterior</td>\n",
       "    </tr>\n",
       "  </tbody>\n",
       "</table>\n",
       "</div>"
      ],
      "text/plain": [
       "   index Seq.   (i)  Núm.        Candidato  \\\n",
       "0      0      *0001    17   JAIR BOLSONARO   \n",
       "1      1      *0002    13  FERNANDO HADDAD   \n",
       "2      2       0003    12       CIRO GOMES   \n",
       "3      3       0004    30      JOÃO AMOÊDO   \n",
       "4      4       0005    45  GERALDO ALCKMIN   \n",
       "\n",
       "                                   Partido/Coligação Votação % Válidos   UF  \\\n",
       "0                                   PSL - PSL / PRTB  113.69   58,79 %  EXT   \n",
       "1                           PT - PT / PC do B / PROS   19.54   10,10 %  EXT   \n",
       "2                                 PDT - PDT / AVANTE  28.073   14,52 %  EXT   \n",
       "3                                               NOVO  13.637    7,05 %  EXT   \n",
       "4  PSDB - PSDB / PTB / PP / PR / DEM / SOLIDARIED...   6.668    3,45 %  EXT   \n",
       "\n",
       "     region  \n",
       "0  exterior  \n",
       "1  exterior  \n",
       "2  exterior  \n",
       "3  exterior  \n",
       "4  exterior  "
      ]
     },
     "execution_count": 9,
     "metadata": {},
     "output_type": "execute_result"
    }
   ],
   "source": [
    "# Checking df_election\n",
    "df_election.head()"
   ]
  },
  {
   "cell_type": "code",
   "execution_count": 10,
   "id": "super-server",
   "metadata": {
    "ExecuteTime": {
     "end_time": "2021-04-08T18:44:03.664302Z",
     "start_time": "2021-04-08T18:44:03.650337Z"
    },
    "hidden": true
   },
   "outputs": [
    {
     "data": {
      "text/html": [
       "<div>\n",
       "<style scoped>\n",
       "    .dataframe tbody tr th:only-of-type {\n",
       "        vertical-align: middle;\n",
       "    }\n",
       "\n",
       "    .dataframe tbody tr th {\n",
       "        vertical-align: top;\n",
       "    }\n",
       "\n",
       "    .dataframe thead th {\n",
       "        text-align: right;\n",
       "    }\n",
       "</style>\n",
       "<table border=\"1\" class=\"dataframe\">\n",
       "  <thead>\n",
       "    <tr style=\"text-align: right;\">\n",
       "      <th></th>\n",
       "      <th>regiao</th>\n",
       "      <th>estado</th>\n",
       "      <th>municipio</th>\n",
       "      <th>coduf</th>\n",
       "      <th>codmun</th>\n",
       "      <th>codRegiaoSaude</th>\n",
       "      <th>nomeRegiaoSaude</th>\n",
       "      <th>data</th>\n",
       "      <th>semanaEpi</th>\n",
       "      <th>populacaoTCU2019</th>\n",
       "      <th>casosAcumulado</th>\n",
       "      <th>casosNovos</th>\n",
       "      <th>obitosAcumulado</th>\n",
       "      <th>obitosNovos</th>\n",
       "      <th>Recuperadosnovos</th>\n",
       "      <th>emAcompanhamentoNovos</th>\n",
       "      <th>interior/metropolitana</th>\n",
       "    </tr>\n",
       "  </thead>\n",
       "  <tbody>\n",
       "    <tr>\n",
       "      <th>0</th>\n",
       "      <td>Brasil</td>\n",
       "      <td>NaN</td>\n",
       "      <td>NaN</td>\n",
       "      <td>76</td>\n",
       "      <td>NaN</td>\n",
       "      <td>NaN</td>\n",
       "      <td>NaN</td>\n",
       "      <td>2020-02-25</td>\n",
       "      <td>9</td>\n",
       "      <td>210147125.0</td>\n",
       "      <td>0</td>\n",
       "      <td>0</td>\n",
       "      <td>0</td>\n",
       "      <td>0</td>\n",
       "      <td>NaN</td>\n",
       "      <td>NaN</td>\n",
       "      <td>NaN</td>\n",
       "    </tr>\n",
       "    <tr>\n",
       "      <th>1</th>\n",
       "      <td>Brasil</td>\n",
       "      <td>NaN</td>\n",
       "      <td>NaN</td>\n",
       "      <td>76</td>\n",
       "      <td>NaN</td>\n",
       "      <td>NaN</td>\n",
       "      <td>NaN</td>\n",
       "      <td>2020-02-26</td>\n",
       "      <td>9</td>\n",
       "      <td>210147125.0</td>\n",
       "      <td>1</td>\n",
       "      <td>1</td>\n",
       "      <td>0</td>\n",
       "      <td>0</td>\n",
       "      <td>NaN</td>\n",
       "      <td>NaN</td>\n",
       "      <td>NaN</td>\n",
       "    </tr>\n",
       "    <tr>\n",
       "      <th>2</th>\n",
       "      <td>Brasil</td>\n",
       "      <td>NaN</td>\n",
       "      <td>NaN</td>\n",
       "      <td>76</td>\n",
       "      <td>NaN</td>\n",
       "      <td>NaN</td>\n",
       "      <td>NaN</td>\n",
       "      <td>2020-02-27</td>\n",
       "      <td>9</td>\n",
       "      <td>210147125.0</td>\n",
       "      <td>1</td>\n",
       "      <td>0</td>\n",
       "      <td>0</td>\n",
       "      <td>0</td>\n",
       "      <td>NaN</td>\n",
       "      <td>NaN</td>\n",
       "      <td>NaN</td>\n",
       "    </tr>\n",
       "    <tr>\n",
       "      <th>3</th>\n",
       "      <td>Brasil</td>\n",
       "      <td>NaN</td>\n",
       "      <td>NaN</td>\n",
       "      <td>76</td>\n",
       "      <td>NaN</td>\n",
       "      <td>NaN</td>\n",
       "      <td>NaN</td>\n",
       "      <td>2020-02-28</td>\n",
       "      <td>9</td>\n",
       "      <td>210147125.0</td>\n",
       "      <td>1</td>\n",
       "      <td>0</td>\n",
       "      <td>0</td>\n",
       "      <td>0</td>\n",
       "      <td>NaN</td>\n",
       "      <td>NaN</td>\n",
       "      <td>NaN</td>\n",
       "    </tr>\n",
       "    <tr>\n",
       "      <th>4</th>\n",
       "      <td>Brasil</td>\n",
       "      <td>NaN</td>\n",
       "      <td>NaN</td>\n",
       "      <td>76</td>\n",
       "      <td>NaN</td>\n",
       "      <td>NaN</td>\n",
       "      <td>NaN</td>\n",
       "      <td>2020-02-29</td>\n",
       "      <td>9</td>\n",
       "      <td>210147125.0</td>\n",
       "      <td>2</td>\n",
       "      <td>1</td>\n",
       "      <td>0</td>\n",
       "      <td>0</td>\n",
       "      <td>NaN</td>\n",
       "      <td>NaN</td>\n",
       "      <td>NaN</td>\n",
       "    </tr>\n",
       "  </tbody>\n",
       "</table>\n",
       "</div>"
      ],
      "text/plain": [
       "   regiao estado municipio  coduf  codmun  codRegiaoSaude nomeRegiaoSaude  \\\n",
       "0  Brasil    NaN       NaN     76     NaN             NaN             NaN   \n",
       "1  Brasil    NaN       NaN     76     NaN             NaN             NaN   \n",
       "2  Brasil    NaN       NaN     76     NaN             NaN             NaN   \n",
       "3  Brasil    NaN       NaN     76     NaN             NaN             NaN   \n",
       "4  Brasil    NaN       NaN     76     NaN             NaN             NaN   \n",
       "\n",
       "         data  semanaEpi  populacaoTCU2019  casosAcumulado  casosNovos  \\\n",
       "0  2020-02-25          9       210147125.0               0           0   \n",
       "1  2020-02-26          9       210147125.0               1           1   \n",
       "2  2020-02-27          9       210147125.0               1           0   \n",
       "3  2020-02-28          9       210147125.0               1           0   \n",
       "4  2020-02-29          9       210147125.0               2           1   \n",
       "\n",
       "   obitosAcumulado  obitosNovos  Recuperadosnovos  emAcompanhamentoNovos  \\\n",
       "0                0            0               NaN                    NaN   \n",
       "1                0            0               NaN                    NaN   \n",
       "2                0            0               NaN                    NaN   \n",
       "3                0            0               NaN                    NaN   \n",
       "4                0            0               NaN                    NaN   \n",
       "\n",
       "   interior/metropolitana  \n",
       "0                     NaN  \n",
       "1                     NaN  \n",
       "2                     NaN  \n",
       "3                     NaN  \n",
       "4                     NaN  "
      ]
     },
     "execution_count": 10,
     "metadata": {},
     "output_type": "execute_result"
    }
   ],
   "source": [
    "# Checking df_covid\n",
    "df_covid.head()"
   ]
  },
  {
   "cell_type": "markdown",
   "id": "offshore-joint",
   "metadata": {
    "heading_collapsed": true
   },
   "source": [
    "# 1.0 DATA DESCRIPTION"
   ]
  },
  {
   "cell_type": "code",
   "execution_count": 11,
   "id": "photographic-conducting",
   "metadata": {
    "ExecuteTime": {
     "end_time": "2021-04-08T18:44:03.680381Z",
     "start_time": "2021-04-08T18:44:03.666297Z"
    },
    "hidden": true
   },
   "outputs": [],
   "source": [
    "df1_covid = df_covid\n",
    "df1_election = df_election"
   ]
  },
  {
   "cell_type": "markdown",
   "id": "proved-garage",
   "metadata": {
    "heading_collapsed": true,
    "hidden": true
   },
   "source": [
    "## 1.1 Rename column"
   ]
  },
  {
   "cell_type": "code",
   "execution_count": 12,
   "id": "catholic-affair",
   "metadata": {
    "ExecuteTime": {
     "end_time": "2021-04-08T18:44:03.696337Z",
     "start_time": "2021-04-08T18:44:03.684413Z"
    },
    "hidden": true
   },
   "outputs": [],
   "source": [
    "# Excluding index column\n",
    "df1_election = df1_election.drop(columns = ['index'])"
   ]
  },
  {
   "cell_type": "code",
   "execution_count": 13,
   "id": "effective-psychology",
   "metadata": {
    "ExecuteTime": {
     "end_time": "2021-04-08T18:44:03.712343Z",
     "start_time": "2021-04-08T18:44:03.699330Z"
    },
    "hidden": true
   },
   "outputs": [
    {
     "data": {
      "text/plain": [
       "Index(['Seq.   (i)', 'Núm.', 'Candidato', 'Partido/Coligação', 'Votação',\n",
       "       '% Válidos', 'UF', 'region'],\n",
       "      dtype='object')"
      ]
     },
     "execution_count": 13,
     "metadata": {},
     "output_type": "execute_result"
    }
   ],
   "source": [
    "df1_election.columns"
   ]
  },
  {
   "cell_type": "code",
   "execution_count": 14,
   "id": "worthy-bidding",
   "metadata": {
    "ExecuteTime": {
     "end_time": "2021-04-08T18:44:03.727748Z",
     "start_time": "2021-04-08T18:44:03.713374Z"
    },
    "hidden": true
   },
   "outputs": [],
   "source": [
    "# Apply snakecase for all columns name in df1_covid\n",
    "cols_old = (['regiao', 'estado', 'municipio', 'coduf', 'codmun', 'codRegiaoSaude',\n",
    "       'nomeRegiaoSaude', 'data', 'semanaEpi', 'populacaoTCU2019',\n",
    "       'casosAcumulado', 'casosNovos', 'obitosAcumulado', 'obitosNovos',\n",
    "       'Recuperadosnovos', 'emAcompanhamentoNovos', 'interior/metropolitana'])\n",
    "\n",
    "snakecase = lambda x: inflection.underscore(x)\n",
    "\n",
    "cols_new = list(map(snakecase, cols_old))\n",
    "\n",
    "df1_covid.columns = cols_new\n",
    "\n",
    "\n",
    "# Changing columns names\n",
    "cols_election_news = ['classificacao', 'numero', 'candidato', 'partido',\n",
    "       'votacao', '%validos', 'estado', 'region']\n",
    "\n",
    "df1_election.columns = cols_election_news"
   ]
  },
  {
   "cell_type": "markdown",
   "id": "spanish-venezuela",
   "metadata": {
    "heading_collapsed": true,
    "hidden": true
   },
   "source": [
    "## 1.2 Data dimensions"
   ]
  },
  {
   "cell_type": "code",
   "execution_count": 15,
   "id": "lonely-singles",
   "metadata": {
    "ExecuteTime": {
     "end_time": "2021-04-08T18:44:03.742828Z",
     "start_time": "2021-04-08T18:44:03.728748Z"
    },
    "hidden": true
   },
   "outputs": [
    {
     "name": "stdout",
     "output_type": "stream",
     "text": [
      "**Covid dataset**\n",
      "Number of rows: 2001234\n",
      "Number of columns: 17\n",
      "\n",
      "**Election dataset**\n",
      "Number of rows: 364\n",
      "Number of columns: 8\n"
     ]
    }
   ],
   "source": [
    "print('**Covid dataset**')\n",
    "print('Number of rows: {}'.format(df1_covid.shape[0]))\n",
    "print('Number of columns: {}\\n'.format(df1_covid.shape[1]))\n",
    "\n",
    "print('**Election dataset**')\n",
    "print('Number of rows: {}'.format(df1_election.shape[0]))\n",
    "print('Number of columns: {}'.format(df1_election.shape[1]))"
   ]
  },
  {
   "cell_type": "markdown",
   "id": "deluxe-disorder",
   "metadata": {
    "heading_collapsed": true,
    "hidden": true
   },
   "source": [
    "## 1.3 Data types"
   ]
  },
  {
   "cell_type": "code",
   "execution_count": 16,
   "id": "verified-guatemala",
   "metadata": {
    "ExecuteTime": {
     "end_time": "2021-04-08T18:44:03.886111Z",
     "start_time": "2021-04-08T18:44:03.746828Z"
    },
    "hidden": true
   },
   "outputs": [],
   "source": [
    "# Creating new dataset only with data on 2021-03-17\n",
    "df1_covid = pd.DataFrame(df1_covid[df1_covid['data'] == '2021-03-17'])"
   ]
  },
  {
   "cell_type": "code",
   "execution_count": 17,
   "id": "seeing-grammar",
   "metadata": {
    "ExecuteTime": {
     "end_time": "2021-04-08T18:44:03.917834Z",
     "start_time": "2021-04-08T18:44:03.886958Z"
    },
    "hidden": true
   },
   "outputs": [
    {
     "data": {
      "text/html": [
       "<div>\n",
       "<style scoped>\n",
       "    .dataframe tbody tr th:only-of-type {\n",
       "        vertical-align: middle;\n",
       "    }\n",
       "\n",
       "    .dataframe tbody tr th {\n",
       "        vertical-align: top;\n",
       "    }\n",
       "\n",
       "    .dataframe thead th {\n",
       "        text-align: right;\n",
       "    }\n",
       "</style>\n",
       "<table border=\"1\" class=\"dataframe\">\n",
       "  <thead>\n",
       "    <tr style=\"text-align: right;\">\n",
       "      <th></th>\n",
       "      <th>regiao</th>\n",
       "      <th>estado</th>\n",
       "      <th>municipio</th>\n",
       "      <th>coduf</th>\n",
       "      <th>codmun</th>\n",
       "      <th>cod_regiao_saude</th>\n",
       "      <th>nome_regiao_saude</th>\n",
       "      <th>data</th>\n",
       "      <th>semana_epi</th>\n",
       "      <th>populacao_tcu2019</th>\n",
       "      <th>casos_acumulado</th>\n",
       "      <th>casos_novos</th>\n",
       "      <th>obitos_acumulado</th>\n",
       "      <th>obitos_novos</th>\n",
       "      <th>recuperadosnovos</th>\n",
       "      <th>em_acompanhamento_novos</th>\n",
       "      <th>interior/metropolitana</th>\n",
       "    </tr>\n",
       "  </thead>\n",
       "  <tbody>\n",
       "    <tr>\n",
       "      <th>11549</th>\n",
       "      <td>Norte</td>\n",
       "      <td>RO</td>\n",
       "      <td>Alta Floresta D'Oeste</td>\n",
       "      <td>11</td>\n",
       "      <td>110001.0</td>\n",
       "      <td>11005.0</td>\n",
       "      <td>ZONA DA MATA</td>\n",
       "      <td>2021-03-17</td>\n",
       "      <td>11</td>\n",
       "      <td>22945.0</td>\n",
       "      <td>2617</td>\n",
       "      <td>16</td>\n",
       "      <td>36</td>\n",
       "      <td>0</td>\n",
       "      <td>NaN</td>\n",
       "      <td>NaN</td>\n",
       "      <td>0.0</td>\n",
       "    </tr>\n",
       "    <tr>\n",
       "      <th>11905</th>\n",
       "      <td>Norte</td>\n",
       "      <td>RO</td>\n",
       "      <td>Ariquemes</td>\n",
       "      <td>11</td>\n",
       "      <td>110002.0</td>\n",
       "      <td>11001.0</td>\n",
       "      <td>VALE DO JAMARI</td>\n",
       "      <td>2021-03-17</td>\n",
       "      <td>11</td>\n",
       "      <td>107863.0</td>\n",
       "      <td>14298</td>\n",
       "      <td>34</td>\n",
       "      <td>266</td>\n",
       "      <td>3</td>\n",
       "      <td>NaN</td>\n",
       "      <td>NaN</td>\n",
       "      <td>0.0</td>\n",
       "    </tr>\n",
       "    <tr>\n",
       "      <th>12261</th>\n",
       "      <td>Norte</td>\n",
       "      <td>RO</td>\n",
       "      <td>Cabixi</td>\n",
       "      <td>11</td>\n",
       "      <td>110003.0</td>\n",
       "      <td>11006.0</td>\n",
       "      <td>CONE SUL</td>\n",
       "      <td>2021-03-17</td>\n",
       "      <td>11</td>\n",
       "      <td>5312.0</td>\n",
       "      <td>497</td>\n",
       "      <td>6</td>\n",
       "      <td>10</td>\n",
       "      <td>0</td>\n",
       "      <td>NaN</td>\n",
       "      <td>NaN</td>\n",
       "      <td>0.0</td>\n",
       "    </tr>\n",
       "    <tr>\n",
       "      <th>12617</th>\n",
       "      <td>Norte</td>\n",
       "      <td>RO</td>\n",
       "      <td>Cacoal</td>\n",
       "      <td>11</td>\n",
       "      <td>110004.0</td>\n",
       "      <td>11002.0</td>\n",
       "      <td>CAFE</td>\n",
       "      <td>2021-03-17</td>\n",
       "      <td>11</td>\n",
       "      <td>85359.0</td>\n",
       "      <td>8519</td>\n",
       "      <td>87</td>\n",
       "      <td>129</td>\n",
       "      <td>1</td>\n",
       "      <td>NaN</td>\n",
       "      <td>NaN</td>\n",
       "      <td>0.0</td>\n",
       "    </tr>\n",
       "    <tr>\n",
       "      <th>12973</th>\n",
       "      <td>Norte</td>\n",
       "      <td>RO</td>\n",
       "      <td>Cerejeiras</td>\n",
       "      <td>11</td>\n",
       "      <td>110005.0</td>\n",
       "      <td>11006.0</td>\n",
       "      <td>CONE SUL</td>\n",
       "      <td>2021-03-17</td>\n",
       "      <td>11</td>\n",
       "      <td>16323.0</td>\n",
       "      <td>1207</td>\n",
       "      <td>30</td>\n",
       "      <td>19</td>\n",
       "      <td>1</td>\n",
       "      <td>NaN</td>\n",
       "      <td>NaN</td>\n",
       "      <td>0.0</td>\n",
       "    </tr>\n",
       "    <tr>\n",
       "      <th>...</th>\n",
       "      <td>...</td>\n",
       "      <td>...</td>\n",
       "      <td>...</td>\n",
       "      <td>...</td>\n",
       "      <td>...</td>\n",
       "      <td>...</td>\n",
       "      <td>...</td>\n",
       "      <td>...</td>\n",
       "      <td>...</td>\n",
       "      <td>...</td>\n",
       "      <td>...</td>\n",
       "      <td>...</td>\n",
       "      <td>...</td>\n",
       "      <td>...</td>\n",
       "      <td>...</td>\n",
       "      <td>...</td>\n",
       "      <td>...</td>\n",
       "    </tr>\n",
       "    <tr>\n",
       "      <th>1999809</th>\n",
       "      <td>Centro-Oeste</td>\n",
       "      <td>GO</td>\n",
       "      <td>Vianópolis</td>\n",
       "      <td>52</td>\n",
       "      <td>522200.0</td>\n",
       "      <td>52002.0</td>\n",
       "      <td>CENTRO SUL</td>\n",
       "      <td>2021-03-17</td>\n",
       "      <td>11</td>\n",
       "      <td>13863.0</td>\n",
       "      <td>445</td>\n",
       "      <td>40</td>\n",
       "      <td>8</td>\n",
       "      <td>0</td>\n",
       "      <td>NaN</td>\n",
       "      <td>NaN</td>\n",
       "      <td>0.0</td>\n",
       "    </tr>\n",
       "    <tr>\n",
       "      <th>2000165</th>\n",
       "      <td>Centro-Oeste</td>\n",
       "      <td>GO</td>\n",
       "      <td>Vicentinópolis</td>\n",
       "      <td>52</td>\n",
       "      <td>522205.0</td>\n",
       "      <td>52002.0</td>\n",
       "      <td>CENTRO SUL</td>\n",
       "      <td>2021-03-17</td>\n",
       "      <td>11</td>\n",
       "      <td>8743.0</td>\n",
       "      <td>455</td>\n",
       "      <td>36</td>\n",
       "      <td>8</td>\n",
       "      <td>0</td>\n",
       "      <td>NaN</td>\n",
       "      <td>NaN</td>\n",
       "      <td>0.0</td>\n",
       "    </tr>\n",
       "    <tr>\n",
       "      <th>2000521</th>\n",
       "      <td>Centro-Oeste</td>\n",
       "      <td>GO</td>\n",
       "      <td>Vila Boa</td>\n",
       "      <td>52</td>\n",
       "      <td>522220.0</td>\n",
       "      <td>52003.0</td>\n",
       "      <td>ENTORNO NORTE</td>\n",
       "      <td>2021-03-17</td>\n",
       "      <td>11</td>\n",
       "      <td>6171.0</td>\n",
       "      <td>80</td>\n",
       "      <td>0</td>\n",
       "      <td>2</td>\n",
       "      <td>0</td>\n",
       "      <td>NaN</td>\n",
       "      <td>NaN</td>\n",
       "      <td>0.0</td>\n",
       "    </tr>\n",
       "    <tr>\n",
       "      <th>2000877</th>\n",
       "      <td>Centro-Oeste</td>\n",
       "      <td>GO</td>\n",
       "      <td>Vila Propício</td>\n",
       "      <td>52</td>\n",
       "      <td>522230.0</td>\n",
       "      <td>52018.0</td>\n",
       "      <td>SAO PATRICIO II</td>\n",
       "      <td>2021-03-17</td>\n",
       "      <td>11</td>\n",
       "      <td>5821.0</td>\n",
       "      <td>270</td>\n",
       "      <td>1</td>\n",
       "      <td>3</td>\n",
       "      <td>0</td>\n",
       "      <td>NaN</td>\n",
       "      <td>NaN</td>\n",
       "      <td>0.0</td>\n",
       "    </tr>\n",
       "    <tr>\n",
       "      <th>2001233</th>\n",
       "      <td>Centro-Oeste</td>\n",
       "      <td>DF</td>\n",
       "      <td>Brasília</td>\n",
       "      <td>53</td>\n",
       "      <td>530010.0</td>\n",
       "      <td>53001.0</td>\n",
       "      <td>DISTRITO FEDERAL</td>\n",
       "      <td>2021-03-17</td>\n",
       "      <td>11</td>\n",
       "      <td>3015268.0</td>\n",
       "      <td>322686</td>\n",
       "      <td>1321</td>\n",
       "      <td>5206</td>\n",
       "      <td>30</td>\n",
       "      <td>NaN</td>\n",
       "      <td>NaN</td>\n",
       "      <td>1.0</td>\n",
       "    </tr>\n",
       "  </tbody>\n",
       "</table>\n",
       "<p>5570 rows × 17 columns</p>\n",
       "</div>"
      ],
      "text/plain": [
       "               regiao estado              municipio  coduf    codmun  \\\n",
       "11549           Norte     RO  Alta Floresta D'Oeste     11  110001.0   \n",
       "11905           Norte     RO              Ariquemes     11  110002.0   \n",
       "12261           Norte     RO                 Cabixi     11  110003.0   \n",
       "12617           Norte     RO                 Cacoal     11  110004.0   \n",
       "12973           Norte     RO             Cerejeiras     11  110005.0   \n",
       "...               ...    ...                    ...    ...       ...   \n",
       "1999809  Centro-Oeste     GO             Vianópolis     52  522200.0   \n",
       "2000165  Centro-Oeste     GO         Vicentinópolis     52  522205.0   \n",
       "2000521  Centro-Oeste     GO               Vila Boa     52  522220.0   \n",
       "2000877  Centro-Oeste     GO          Vila Propício     52  522230.0   \n",
       "2001233  Centro-Oeste     DF               Brasília     53  530010.0   \n",
       "\n",
       "         cod_regiao_saude nome_regiao_saude        data  semana_epi  \\\n",
       "11549             11005.0      ZONA DA MATA  2021-03-17          11   \n",
       "11905             11001.0    VALE DO JAMARI  2021-03-17          11   \n",
       "12261             11006.0          CONE SUL  2021-03-17          11   \n",
       "12617             11002.0              CAFE  2021-03-17          11   \n",
       "12973             11006.0          CONE SUL  2021-03-17          11   \n",
       "...                   ...               ...         ...         ...   \n",
       "1999809           52002.0        CENTRO SUL  2021-03-17          11   \n",
       "2000165           52002.0        CENTRO SUL  2021-03-17          11   \n",
       "2000521           52003.0     ENTORNO NORTE  2021-03-17          11   \n",
       "2000877           52018.0   SAO PATRICIO II  2021-03-17          11   \n",
       "2001233           53001.0  DISTRITO FEDERAL  2021-03-17          11   \n",
       "\n",
       "         populacao_tcu2019  casos_acumulado  casos_novos  obitos_acumulado  \\\n",
       "11549              22945.0             2617           16                36   \n",
       "11905             107863.0            14298           34               266   \n",
       "12261               5312.0              497            6                10   \n",
       "12617              85359.0             8519           87               129   \n",
       "12973              16323.0             1207           30                19   \n",
       "...                    ...              ...          ...               ...   \n",
       "1999809            13863.0              445           40                 8   \n",
       "2000165             8743.0              455           36                 8   \n",
       "2000521             6171.0               80            0                 2   \n",
       "2000877             5821.0              270            1                 3   \n",
       "2001233          3015268.0           322686         1321              5206   \n",
       "\n",
       "         obitos_novos  recuperadosnovos  em_acompanhamento_novos  \\\n",
       "11549               0               NaN                      NaN   \n",
       "11905               3               NaN                      NaN   \n",
       "12261               0               NaN                      NaN   \n",
       "12617               1               NaN                      NaN   \n",
       "12973               1               NaN                      NaN   \n",
       "...               ...               ...                      ...   \n",
       "1999809             0               NaN                      NaN   \n",
       "2000165             0               NaN                      NaN   \n",
       "2000521             0               NaN                      NaN   \n",
       "2000877             0               NaN                      NaN   \n",
       "2001233            30               NaN                      NaN   \n",
       "\n",
       "         interior/metropolitana  \n",
       "11549                       0.0  \n",
       "11905                       0.0  \n",
       "12261                       0.0  \n",
       "12617                       0.0  \n",
       "12973                       0.0  \n",
       "...                         ...  \n",
       "1999809                     0.0  \n",
       "2000165                     0.0  \n",
       "2000521                     0.0  \n",
       "2000877                     0.0  \n",
       "2001233                     1.0  \n",
       "\n",
       "[5570 rows x 17 columns]"
      ]
     },
     "execution_count": 17,
     "metadata": {},
     "output_type": "execute_result"
    }
   ],
   "source": [
    "# Removing all rows with NaN in municipio variable\n",
    "df1_covid = df1_covid.dropna(subset = ['municipio'])\n",
    "df1_covid"
   ]
  },
  {
   "cell_type": "code",
   "execution_count": 18,
   "id": "competent-american",
   "metadata": {
    "ExecuteTime": {
     "end_time": "2021-04-08T18:44:03.932903Z",
     "start_time": "2021-04-08T18:44:03.918699Z"
    },
    "hidden": true
   },
   "outputs": [
    {
     "data": {
      "text/plain": [
       "classificacao    object\n",
       "numero            int64\n",
       "candidato        object\n",
       "partido          object\n",
       "votacao          object\n",
       "%validos         object\n",
       "estado           object\n",
       "region           object\n",
       "dtype: object"
      ]
     },
     "execution_count": 18,
     "metadata": {},
     "output_type": "execute_result"
    }
   ],
   "source": [
    "df1_election.dtypes"
   ]
  },
  {
   "cell_type": "code",
   "execution_count": 19,
   "id": "varied-pickup",
   "metadata": {
    "ExecuteTime": {
     "end_time": "2021-04-08T18:44:03.948829Z",
     "start_time": "2021-04-08T18:44:03.933869Z"
    },
    "hidden": true
   },
   "outputs": [
    {
     "data": {
      "text/plain": [
       "array(['58,79 %', '10,10 %', '14,52 %', '7,05 %', '3,45 %', '2,57 %',\n",
       "       '1,41 %', '0,66 %', '0,61 %', '0,49 %', '0,18 %', '0,09 %',\n",
       "       '0,08 %', '62,24 %', '18,53 %', '7,85 %', '5,17 %', '2,50 %',\n",
       "       '1,53 %', '0,84 %', '0,47 %', '0,39 %', '0,36 %', '0,06 %',\n",
       "       '0,03 %', '0,02 %', '44,75 %', '34,40 %', '10,12 %', '3,81 %',\n",
       "       '2,86 %', '1,24 %', '1,03 %', '0,76 %', '0,58 %', '0,33 %',\n",
       "       '0,05 %', '43,48 %', '40,30 %', '7,50 %', '1,68 %', '1,58 %',\n",
       "       '1,57 %', '1,45 %', '1,26 %', '0,60 %', '0,46 %', '40,74 %',\n",
       "       '32,77 %', '12,34 %', '4,70 %', '2,20 %', '2,17 %', '1,83 %',\n",
       "       '1,37 %', '1,33 %', '0,35 %', '0,14 %', '60,28 %', '23,41 %',\n",
       "       '9,41 %', '2,35 %', '1,88 %', '0,83 %', '0,59 %', '0,45 %',\n",
       "       '0,43 %', '0,28 %', '33,12 %', '21,74 %', '40,95 %', '1,12 %',\n",
       "       '1,09 %', '0,57 %', '0,48 %', '0,37 %', '0,31 %', '0,17 %',\n",
       "       '58,37 %', '11,87 %', '16,60 %', '3,34 %', '2,80 %', '2,00 %',\n",
       "       '0,82 %', '0,69 %', '0,04 %', '54,76 %', '24,20 %', '9,54 %',\n",
       "       '3,86 %', '2,16 %', '2,04 %', '1,29 %', '1,08 %', '0,55 %',\n",
       "       '0,41 %', '57,24 %', '21,86 %', '8,60 %', '4,49 %', '2,78 %',\n",
       "       '2,14 %', '1,02 %', '0,88 %', '0,42 %', '61,26 %', '24,28 %',\n",
       "       '8,39 %', '1,55 %', '1,50 %', '0,70 %', '0,51 %', '0,19 %',\n",
       "       '0,01 %', '48,31 %', '27,65 %', '11,64 %', '4,61 %', '3,88 %',\n",
       "       '1,00 %', '0,89 %', '55,06 %', '23,87 %', '8,04 %', '6,51 %',\n",
       "       '1,90 %', '1,30 %', '0,90 %', '0,44 %', '60,04 %', '24,76 %',\n",
       "       '5,59 %', '4,13 %', '1,59 %', '0,80 %', '0,79 %', '41,39 %',\n",
       "       '36,19 %', '10,03 %', '5,53 %', '2,43 %', '0,78 %', '0,68 %',\n",
       "       '0,30 %', '45,46 %', '31,30 %', '16,75 %', '2,37 %', '1,01 %',\n",
       "       '0,32 %', '48,87 %', '30,57 %', '13,56 %', '1,98 %', '1,65 %',\n",
       "       '0,98 %', '0,21 %', '63,40 %', '18,76 %', '11,42 %', '2,59 %',\n",
       "       '0,91 %', '0,72 %', '56,89 %', '19,70 %', '8,31 %', '5,25 %',\n",
       "       '3,59 %', '3,10 %', '1,20 %', '0,77 %', '0,65 %', '59,79 %',\n",
       "       '14,69 %', '15,22 %', '2,47 %', '2,44 %', '1,63 %', '0,07 %',\n",
       "       '41,19 %', '30,21 %', '22,31 %', '2,25 %', '1,15 %', '0,87 %',\n",
       "       '0,64 %', '0,29 %', '20,36 %', '6,03 %', '4,28 %', '1,89 %',\n",
       "       '1,48 %', '1,13 %', '0,85 %', '0,62 %', '62,97 %', '17,85 %',\n",
       "       '6,95 %', '5,36 %', '1,56 %', '1,06 %', '0,53 %', '52,63 %',\n",
       "       '22,81 %', '11,37 %', '5,50 %', '2,92 %', '1,96 %', '0,56 %',\n",
       "       '65,82 %', '15,13 %', '6,68 %', '4,01 %', '3,89 %', '1,31 %',\n",
       "       '0,54 %', '50,09 %', '27,21 %', '13,02 %', '4,03 %', '1,39 %',\n",
       "       '1,23 %', '0,81 %', '0,27 %', '53,00 %', '16,42 %', '11,35 %',\n",
       "       '9,52 %', '4,55 %', '1,18 %', '44,64 %', '41,12 %', '7,17 %',\n",
       "       '0,96 %', '0,94 %'], dtype=object)"
      ]
     },
     "execution_count": 19,
     "metadata": {},
     "output_type": "execute_result"
    }
   ],
   "source": [
    "df1_election['%validos'].unique()"
   ]
  },
  {
   "cell_type": "markdown",
   "id": "composite-kernel",
   "metadata": {
    "heading_collapsed": true,
    "hidden": true
   },
   "source": [
    "## 1.4 Check NA"
   ]
  },
  {
   "cell_type": "code",
   "execution_count": 20,
   "id": "organic-subscription",
   "metadata": {
    "ExecuteTime": {
     "end_time": "2021-04-08T18:44:03.964788Z",
     "start_time": "2021-04-08T18:44:03.949826Z"
    },
    "hidden": true
   },
   "outputs": [
    {
     "data": {
      "text/plain": [
       "regiao                        0\n",
       "estado                        0\n",
       "municipio                     0\n",
       "coduf                         0\n",
       "codmun                        0\n",
       "cod_regiao_saude              0\n",
       "nome_regiao_saude             0\n",
       "data                          0\n",
       "semana_epi                    0\n",
       "populacao_tcu2019             0\n",
       "casos_acumulado               0\n",
       "casos_novos                   0\n",
       "obitos_acumulado              0\n",
       "obitos_novos                  0\n",
       "recuperadosnovos           5570\n",
       "em_acompanhamento_novos    5570\n",
       "interior/metropolitana        0\n",
       "dtype: int64"
      ]
     },
     "execution_count": 20,
     "metadata": {},
     "output_type": "execute_result"
    }
   ],
   "source": [
    "df1_covid.isna().sum()"
   ]
  },
  {
   "cell_type": "code",
   "execution_count": 21,
   "id": "passing-station",
   "metadata": {
    "ExecuteTime": {
     "end_time": "2021-04-08T18:44:03.980743Z",
     "start_time": "2021-04-08T18:44:03.966780Z"
    },
    "hidden": true
   },
   "outputs": [
    {
     "data": {
      "text/plain": [
       "classificacao    0\n",
       "numero           0\n",
       "candidato        0\n",
       "partido          0\n",
       "votacao          0\n",
       "%validos         0\n",
       "estado           0\n",
       "region           0\n",
       "dtype: int64"
      ]
     },
     "execution_count": 21,
     "metadata": {},
     "output_type": "execute_result"
    }
   ],
   "source": [
    "df1_election.isna().sum()"
   ]
  },
  {
   "cell_type": "markdown",
   "id": "improving-programming",
   "metadata": {
    "heading_collapsed": true,
    "hidden": true
   },
   "source": [
    "## 1.5 Change types"
   ]
  },
  {
   "cell_type": "code",
   "execution_count": 22,
   "id": "worldwide-stock",
   "metadata": {
    "ExecuteTime": {
     "end_time": "2021-04-08T18:44:03.996077Z",
     "start_time": "2021-04-08T18:44:03.982737Z"
    },
    "hidden": true
   },
   "outputs": [],
   "source": [
    "votos = '58,79 %'\n",
    "votos = float(votos.replace(',', '.').replace('%', ''))\n",
    "\n",
    "def replace_votos(votos):\n",
    "    x = float(votos.replace(',', '.').replace('%', ''))\n",
    "    return x\n",
    "\n",
    "df1_election['%validos'] = df1_election['%validos'].apply(replace_votos)"
   ]
  },
  {
   "cell_type": "code",
   "execution_count": 23,
   "id": "exciting-detection",
   "metadata": {
    "ExecuteTime": {
     "end_time": "2021-04-08T18:44:04.012205Z",
     "start_time": "2021-04-08T18:44:03.997903Z"
    },
    "hidden": true
   },
   "outputs": [
    {
     "data": {
      "text/plain": [
       "classificacao     object\n",
       "numero             int64\n",
       "candidato         object\n",
       "partido           object\n",
       "votacao           object\n",
       "%validos         float64\n",
       "estado            object\n",
       "region            object\n",
       "dtype: object"
      ]
     },
     "execution_count": 23,
     "metadata": {},
     "output_type": "execute_result"
    }
   ],
   "source": [
    "df1_election.dtypes"
   ]
  },
  {
   "cell_type": "code",
   "execution_count": 24,
   "id": "divided-controversy",
   "metadata": {
    "ExecuteTime": {
     "end_time": "2021-04-08T18:44:04.027985Z",
     "start_time": "2021-04-08T18:44:04.016018Z"
    },
    "hidden": true
   },
   "outputs": [
    {
     "data": {
      "text/html": [
       "<div>\n",
       "<style scoped>\n",
       "    .dataframe tbody tr th:only-of-type {\n",
       "        vertical-align: middle;\n",
       "    }\n",
       "\n",
       "    .dataframe tbody tr th {\n",
       "        vertical-align: top;\n",
       "    }\n",
       "\n",
       "    .dataframe thead th {\n",
       "        text-align: right;\n",
       "    }\n",
       "</style>\n",
       "<table border=\"1\" class=\"dataframe\">\n",
       "  <thead>\n",
       "    <tr style=\"text-align: right;\">\n",
       "      <th></th>\n",
       "      <th>classificacao</th>\n",
       "      <th>numero</th>\n",
       "      <th>candidato</th>\n",
       "      <th>partido</th>\n",
       "      <th>votacao</th>\n",
       "      <th>%validos</th>\n",
       "      <th>estado</th>\n",
       "      <th>region</th>\n",
       "    </tr>\n",
       "  </thead>\n",
       "  <tbody>\n",
       "    <tr>\n",
       "      <th>0</th>\n",
       "      <td>*0001</td>\n",
       "      <td>17</td>\n",
       "      <td>JAIR BOLSONARO</td>\n",
       "      <td>PSL - PSL / PRTB</td>\n",
       "      <td>113.69</td>\n",
       "      <td>58.79</td>\n",
       "      <td>EXT</td>\n",
       "      <td>exterior</td>\n",
       "    </tr>\n",
       "    <tr>\n",
       "      <th>1</th>\n",
       "      <td>*0002</td>\n",
       "      <td>13</td>\n",
       "      <td>FERNANDO HADDAD</td>\n",
       "      <td>PT - PT / PC do B / PROS</td>\n",
       "      <td>19.54</td>\n",
       "      <td>10.10</td>\n",
       "      <td>EXT</td>\n",
       "      <td>exterior</td>\n",
       "    </tr>\n",
       "    <tr>\n",
       "      <th>2</th>\n",
       "      <td>0003</td>\n",
       "      <td>12</td>\n",
       "      <td>CIRO GOMES</td>\n",
       "      <td>PDT - PDT / AVANTE</td>\n",
       "      <td>28.073</td>\n",
       "      <td>14.52</td>\n",
       "      <td>EXT</td>\n",
       "      <td>exterior</td>\n",
       "    </tr>\n",
       "    <tr>\n",
       "      <th>3</th>\n",
       "      <td>0004</td>\n",
       "      <td>30</td>\n",
       "      <td>JOÃO AMOÊDO</td>\n",
       "      <td>NOVO</td>\n",
       "      <td>13.637</td>\n",
       "      <td>7.05</td>\n",
       "      <td>EXT</td>\n",
       "      <td>exterior</td>\n",
       "    </tr>\n",
       "    <tr>\n",
       "      <th>4</th>\n",
       "      <td>0005</td>\n",
       "      <td>45</td>\n",
       "      <td>GERALDO ALCKMIN</td>\n",
       "      <td>PSDB - PSDB / PTB / PP / PR / DEM / SOLIDARIED...</td>\n",
       "      <td>6.668</td>\n",
       "      <td>3.45</td>\n",
       "      <td>EXT</td>\n",
       "      <td>exterior</td>\n",
       "    </tr>\n",
       "  </tbody>\n",
       "</table>\n",
       "</div>"
      ],
      "text/plain": [
       "  classificacao  numero        candidato  \\\n",
       "0         *0001      17   JAIR BOLSONARO   \n",
       "1         *0002      13  FERNANDO HADDAD   \n",
       "2          0003      12       CIRO GOMES   \n",
       "3          0004      30      JOÃO AMOÊDO   \n",
       "4          0005      45  GERALDO ALCKMIN   \n",
       "\n",
       "                                             partido votacao  %validos estado  \\\n",
       "0                                   PSL - PSL / PRTB  113.69     58.79    EXT   \n",
       "1                           PT - PT / PC do B / PROS   19.54     10.10    EXT   \n",
       "2                                 PDT - PDT / AVANTE  28.073     14.52    EXT   \n",
       "3                                               NOVO  13.637      7.05    EXT   \n",
       "4  PSDB - PSDB / PTB / PP / PR / DEM / SOLIDARIED...   6.668      3.45    EXT   \n",
       "\n",
       "     region  \n",
       "0  exterior  \n",
       "1  exterior  \n",
       "2  exterior  \n",
       "3  exterior  \n",
       "4  exterior  "
      ]
     },
     "execution_count": 24,
     "metadata": {},
     "output_type": "execute_result"
    }
   ],
   "source": [
    "df1_election.head()"
   ]
  },
  {
   "cell_type": "markdown",
   "id": "permanent-feedback",
   "metadata": {},
   "source": [
    "# 2. FEATURE ENGINEERING"
   ]
  },
  {
   "cell_type": "code",
   "execution_count": 25,
   "id": "prepared-parts",
   "metadata": {
    "ExecuteTime": {
     "end_time": "2021-04-08T18:44:04.043979Z",
     "start_time": "2021-04-08T18:44:04.028982Z"
    }
   },
   "outputs": [
    {
     "data": {
      "text/plain": [
       "11661649"
      ]
     },
     "execution_count": 25,
     "metadata": {},
     "output_type": "execute_result"
    }
   ],
   "source": [
    "df1_covid['casos_acumulado'].sum()"
   ]
  },
  {
   "cell_type": "code",
   "execution_count": 26,
   "id": "beneficial-butter",
   "metadata": {
    "ExecuteTime": {
     "end_time": "2021-04-08T18:44:04.075839Z",
     "start_time": "2021-04-08T18:44:04.045938Z"
    }
   },
   "outputs": [
    {
     "data": {
      "text/html": [
       "<div>\n",
       "<style scoped>\n",
       "    .dataframe tbody tr th:only-of-type {\n",
       "        vertical-align: middle;\n",
       "    }\n",
       "\n",
       "    .dataframe tbody tr th {\n",
       "        vertical-align: top;\n",
       "    }\n",
       "\n",
       "    .dataframe thead th {\n",
       "        text-align: right;\n",
       "    }\n",
       "</style>\n",
       "<table border=\"1\" class=\"dataframe\">\n",
       "  <thead>\n",
       "    <tr style=\"text-align: right;\">\n",
       "      <th></th>\n",
       "      <th>estado</th>\n",
       "      <th>casos_acumulado</th>\n",
       "    </tr>\n",
       "  </thead>\n",
       "  <tbody>\n",
       "    <tr>\n",
       "      <th>0</th>\n",
       "      <td>AC</td>\n",
       "      <td>63721</td>\n",
       "    </tr>\n",
       "    <tr>\n",
       "      <th>1</th>\n",
       "      <td>AL</td>\n",
       "      <td>143336</td>\n",
       "    </tr>\n",
       "    <tr>\n",
       "      <th>2</th>\n",
       "      <td>AM</td>\n",
       "      <td>334432</td>\n",
       "    </tr>\n",
       "    <tr>\n",
       "      <th>3</th>\n",
       "      <td>AP</td>\n",
       "      <td>89822</td>\n",
       "    </tr>\n",
       "    <tr>\n",
       "      <th>4</th>\n",
       "      <td>BA</td>\n",
       "      <td>744015</td>\n",
       "    </tr>\n",
       "    <tr>\n",
       "      <th>5</th>\n",
       "      <td>CE</td>\n",
       "      <td>473430</td>\n",
       "    </tr>\n",
       "    <tr>\n",
       "      <th>6</th>\n",
       "      <td>DF</td>\n",
       "      <td>322686</td>\n",
       "    </tr>\n",
       "    <tr>\n",
       "      <th>7</th>\n",
       "      <td>ES</td>\n",
       "      <td>348092</td>\n",
       "    </tr>\n",
       "    <tr>\n",
       "      <th>8</th>\n",
       "      <td>GO</td>\n",
       "      <td>444028</td>\n",
       "    </tr>\n",
       "    <tr>\n",
       "      <th>9</th>\n",
       "      <td>MA</td>\n",
       "      <td>231075</td>\n",
       "    </tr>\n",
       "    <tr>\n",
       "      <th>10</th>\n",
       "      <td>MG</td>\n",
       "      <td>987466</td>\n",
       "    </tr>\n",
       "    <tr>\n",
       "      <th>11</th>\n",
       "      <td>MS</td>\n",
       "      <td>197541</td>\n",
       "    </tr>\n",
       "    <tr>\n",
       "      <th>12</th>\n",
       "      <td>MT</td>\n",
       "      <td>277537</td>\n",
       "    </tr>\n",
       "    <tr>\n",
       "      <th>13</th>\n",
       "      <td>PA</td>\n",
       "      <td>387960</td>\n",
       "    </tr>\n",
       "    <tr>\n",
       "      <th>14</th>\n",
       "      <td>PB</td>\n",
       "      <td>241592</td>\n",
       "    </tr>\n",
       "    <tr>\n",
       "      <th>15</th>\n",
       "      <td>PE</td>\n",
       "      <td>323176</td>\n",
       "    </tr>\n",
       "    <tr>\n",
       "      <th>16</th>\n",
       "      <td>PI</td>\n",
       "      <td>187960</td>\n",
       "    </tr>\n",
       "    <tr>\n",
       "      <th>17</th>\n",
       "      <td>PR</td>\n",
       "      <td>769966</td>\n",
       "    </tr>\n",
       "    <tr>\n",
       "      <th>18</th>\n",
       "      <td>RJ</td>\n",
       "      <td>612980</td>\n",
       "    </tr>\n",
       "    <tr>\n",
       "      <th>19</th>\n",
       "      <td>RN</td>\n",
       "      <td>182399</td>\n",
       "    </tr>\n",
       "    <tr>\n",
       "      <th>20</th>\n",
       "      <td>RO</td>\n",
       "      <td>170515</td>\n",
       "    </tr>\n",
       "    <tr>\n",
       "      <th>21</th>\n",
       "      <td>RR</td>\n",
       "      <td>83924</td>\n",
       "    </tr>\n",
       "    <tr>\n",
       "      <th>22</th>\n",
       "      <td>RS</td>\n",
       "      <td>763794</td>\n",
       "    </tr>\n",
       "    <tr>\n",
       "      <th>23</th>\n",
       "      <td>SC</td>\n",
       "      <td>746620</td>\n",
       "    </tr>\n",
       "    <tr>\n",
       "      <th>24</th>\n",
       "      <td>SE</td>\n",
       "      <td>161841</td>\n",
       "    </tr>\n",
       "    <tr>\n",
       "      <th>25</th>\n",
       "      <td>SP</td>\n",
       "      <td>2243483</td>\n",
       "    </tr>\n",
       "    <tr>\n",
       "      <th>26</th>\n",
       "      <td>TO</td>\n",
       "      <td>128258</td>\n",
       "    </tr>\n",
       "  </tbody>\n",
       "</table>\n",
       "</div>"
      ],
      "text/plain": [
       "   estado  casos_acumulado\n",
       "0      AC            63721\n",
       "1      AL           143336\n",
       "2      AM           334432\n",
       "3      AP            89822\n",
       "4      BA           744015\n",
       "5      CE           473430\n",
       "6      DF           322686\n",
       "7      ES           348092\n",
       "8      GO           444028\n",
       "9      MA           231075\n",
       "10     MG           987466\n",
       "11     MS           197541\n",
       "12     MT           277537\n",
       "13     PA           387960\n",
       "14     PB           241592\n",
       "15     PE           323176\n",
       "16     PI           187960\n",
       "17     PR           769966\n",
       "18     RJ           612980\n",
       "19     RN           182399\n",
       "20     RO           170515\n",
       "21     RR            83924\n",
       "22     RS           763794\n",
       "23     SC           746620\n",
       "24     SE           161841\n",
       "25     SP          2243483\n",
       "26     TO           128258"
      ]
     },
     "execution_count": 26,
     "metadata": {},
     "output_type": "execute_result"
    }
   ],
   "source": [
    "#Filtering data df_covid\n",
    "casos_estado = df1_covid[['estado','casos_acumulado']].groupby(['estado']).sum().reset_index()\n",
    "casos_estado\n",
    "\n",
    "df_casos_estado = pd.DataFrame(df1_covid[['estado','casos_acumulado']].groupby(['estado']).sum().reset_index())\n",
    "df_casos_estado"
   ]
  },
  {
   "cell_type": "code",
   "execution_count": 27,
   "id": "adult-furniture",
   "metadata": {
    "ExecuteTime": {
     "end_time": "2021-04-08T18:44:04.091765Z",
     "start_time": "2021-04-08T18:44:04.076839Z"
    }
   },
   "outputs": [
    {
     "data": {
      "text/html": [
       "<div>\n",
       "<style scoped>\n",
       "    .dataframe tbody tr th:only-of-type {\n",
       "        vertical-align: middle;\n",
       "    }\n",
       "\n",
       "    .dataframe tbody tr th {\n",
       "        vertical-align: top;\n",
       "    }\n",
       "\n",
       "    .dataframe thead th {\n",
       "        text-align: right;\n",
       "    }\n",
       "</style>\n",
       "<table border=\"1\" class=\"dataframe\">\n",
       "  <thead>\n",
       "    <tr style=\"text-align: right;\">\n",
       "      <th></th>\n",
       "      <th>estado</th>\n",
       "      <th>populacao</th>\n",
       "    </tr>\n",
       "  </thead>\n",
       "  <tbody>\n",
       "    <tr>\n",
       "      <th>0</th>\n",
       "      <td>AC</td>\n",
       "      <td>894470</td>\n",
       "    </tr>\n",
       "    <tr>\n",
       "      <th>1</th>\n",
       "      <td>AL</td>\n",
       "      <td>3351543</td>\n",
       "    </tr>\n",
       "    <tr>\n",
       "      <th>2</th>\n",
       "      <td>AM</td>\n",
       "      <td>4207714</td>\n",
       "    </tr>\n",
       "    <tr>\n",
       "      <th>3</th>\n",
       "      <td>AP</td>\n",
       "      <td>861773</td>\n",
       "    </tr>\n",
       "    <tr>\n",
       "      <th>4</th>\n",
       "      <td>BA</td>\n",
       "      <td>14930634</td>\n",
       "    </tr>\n",
       "    <tr>\n",
       "      <th>5</th>\n",
       "      <td>CE</td>\n",
       "      <td>9187103</td>\n",
       "    </tr>\n",
       "    <tr>\n",
       "      <th>6</th>\n",
       "      <td>DF</td>\n",
       "      <td>3055149</td>\n",
       "    </tr>\n",
       "    <tr>\n",
       "      <th>7</th>\n",
       "      <td>ES</td>\n",
       "      <td>4064052</td>\n",
       "    </tr>\n",
       "    <tr>\n",
       "      <th>8</th>\n",
       "      <td>GO</td>\n",
       "      <td>7113540</td>\n",
       "    </tr>\n",
       "    <tr>\n",
       "      <th>9</th>\n",
       "      <td>MA</td>\n",
       "      <td>7114598</td>\n",
       "    </tr>\n",
       "    <tr>\n",
       "      <th>10</th>\n",
       "      <td>MG</td>\n",
       "      <td>21292666</td>\n",
       "    </tr>\n",
       "    <tr>\n",
       "      <th>11</th>\n",
       "      <td>MS</td>\n",
       "      <td>2809394</td>\n",
       "    </tr>\n",
       "    <tr>\n",
       "      <th>12</th>\n",
       "      <td>MT</td>\n",
       "      <td>3526220</td>\n",
       "    </tr>\n",
       "    <tr>\n",
       "      <th>13</th>\n",
       "      <td>PA</td>\n",
       "      <td>8690745</td>\n",
       "    </tr>\n",
       "    <tr>\n",
       "      <th>14</th>\n",
       "      <td>PB</td>\n",
       "      <td>4039277</td>\n",
       "    </tr>\n",
       "    <tr>\n",
       "      <th>15</th>\n",
       "      <td>PE</td>\n",
       "      <td>9616621</td>\n",
       "    </tr>\n",
       "    <tr>\n",
       "      <th>16</th>\n",
       "      <td>PI</td>\n",
       "      <td>3281480</td>\n",
       "    </tr>\n",
       "    <tr>\n",
       "      <th>17</th>\n",
       "      <td>PR</td>\n",
       "      <td>11516840</td>\n",
       "    </tr>\n",
       "    <tr>\n",
       "      <th>18</th>\n",
       "      <td>RJ</td>\n",
       "      <td>17366189</td>\n",
       "    </tr>\n",
       "    <tr>\n",
       "      <th>19</th>\n",
       "      <td>RN</td>\n",
       "      <td>3534165</td>\n",
       "    </tr>\n",
       "    <tr>\n",
       "      <th>20</th>\n",
       "      <td>RO</td>\n",
       "      <td>1796460</td>\n",
       "    </tr>\n",
       "    <tr>\n",
       "      <th>21</th>\n",
       "      <td>RR</td>\n",
       "      <td>631181</td>\n",
       "    </tr>\n",
       "    <tr>\n",
       "      <th>22</th>\n",
       "      <td>RS</td>\n",
       "      <td>11422973</td>\n",
       "    </tr>\n",
       "    <tr>\n",
       "      <th>23</th>\n",
       "      <td>SC</td>\n",
       "      <td>7252502</td>\n",
       "    </tr>\n",
       "    <tr>\n",
       "      <th>24</th>\n",
       "      <td>SE</td>\n",
       "      <td>2318822</td>\n",
       "    </tr>\n",
       "    <tr>\n",
       "      <th>25</th>\n",
       "      <td>SP</td>\n",
       "      <td>46289333</td>\n",
       "    </tr>\n",
       "    <tr>\n",
       "      <th>26</th>\n",
       "      <td>TO</td>\n",
       "      <td>1590248</td>\n",
       "    </tr>\n",
       "  </tbody>\n",
       "</table>\n",
       "</div>"
      ],
      "text/plain": [
       "   estado populacao\n",
       "0      AC    894470\n",
       "1      AL   3351543\n",
       "2      AM   4207714\n",
       "3      AP    861773\n",
       "4      BA  14930634\n",
       "5      CE   9187103\n",
       "6      DF   3055149\n",
       "7      ES   4064052\n",
       "8      GO   7113540\n",
       "9      MA   7114598\n",
       "10     MG  21292666\n",
       "11     MS   2809394\n",
       "12     MT   3526220\n",
       "13     PA   8690745\n",
       "14     PB   4039277\n",
       "15     PE   9616621\n",
       "16     PI   3281480\n",
       "17     PR  11516840\n",
       "18     RJ  17366189\n",
       "19     RN   3534165\n",
       "20     RO   1796460\n",
       "21     RR    631181\n",
       "22     RS  11422973\n",
       "23     SC   7252502\n",
       "24     SE   2318822\n",
       "25     SP  46289333\n",
       "26     TO   1590248"
      ]
     },
     "execution_count": 27,
     "metadata": {},
     "output_type": "execute_result"
    }
   ],
   "source": [
    "# Creating dataset with population by estate  **Considering IBGE's data(year: 2020)\n",
    "populacao =np.array([['AC', '894470'],\n",
    "                    ['AL', '3351543'],\n",
    "                    ['AM', '4207714'],\n",
    "                    ['AP', '861773'],\n",
    "                    ['BA', '14930634'],\n",
    "                    ['CE', '9187103'],\n",
    "                    ['DF', '3055149'],\n",
    "                    ['ES', '4064052'],\n",
    "                    ['GO', '7113540'],\n",
    "                    ['MA', '7114598'],\n",
    "                    ['MG', '21292666'],\n",
    "                    ['MS', '2809394'],\n",
    "                    ['MT', '3526220'],\n",
    "                    ['PA', '8690745'],\n",
    "                    ['PB', '4039277'],\n",
    "                    ['PE', '9616621'],\n",
    "                    ['PI', '3281480'],\n",
    "                    ['PR', '11516840'],\n",
    "                    ['RJ', '17366189'],\n",
    "                    ['RN', '3534165'],\n",
    "                    ['RO', '1796460'],\n",
    "                    ['RR', '631181'],\n",
    "                    ['RS', '11422973'],\n",
    "                    ['SC', '7252502'],\n",
    "                    ['SE', '2318822'],\n",
    "                    ['SP', '46289333'],\n",
    "                    ['TO', '1590248'],\n",
    "                   ])\n",
    "\n",
    "\n",
    "df_populacao = pd.DataFrame(populacao, columns=['estado', 'populacao'])\n",
    "df_populacao"
   ]
  },
  {
   "cell_type": "code",
   "execution_count": 28,
   "id": "loaded-advantage",
   "metadata": {
    "ExecuteTime": {
     "end_time": "2021-04-08T18:44:04.107753Z",
     "start_time": "2021-04-08T18:44:04.092799Z"
    }
   },
   "outputs": [],
   "source": [
    "# Merging datasets created above\n",
    "df5_covid = pd.merge(df_casos_estado, df_populacao, how = 'left', on = 'estado')"
   ]
  },
  {
   "cell_type": "code",
   "execution_count": 29,
   "id": "driving-television",
   "metadata": {
    "ExecuteTime": {
     "end_time": "2021-04-08T18:44:04.123012Z",
     "start_time": "2021-04-08T18:44:04.108754Z"
    }
   },
   "outputs": [
    {
     "data": {
      "text/html": [
       "<div>\n",
       "<style scoped>\n",
       "    .dataframe tbody tr th:only-of-type {\n",
       "        vertical-align: middle;\n",
       "    }\n",
       "\n",
       "    .dataframe tbody tr th {\n",
       "        vertical-align: top;\n",
       "    }\n",
       "\n",
       "    .dataframe thead th {\n",
       "        text-align: right;\n",
       "    }\n",
       "</style>\n",
       "<table border=\"1\" class=\"dataframe\">\n",
       "  <thead>\n",
       "    <tr style=\"text-align: right;\">\n",
       "      <th></th>\n",
       "      <th>estado</th>\n",
       "      <th>casos_acumulado</th>\n",
       "      <th>populacao</th>\n",
       "    </tr>\n",
       "  </thead>\n",
       "  <tbody>\n",
       "    <tr>\n",
       "      <th>0</th>\n",
       "      <td>AC</td>\n",
       "      <td>63721</td>\n",
       "      <td>894470</td>\n",
       "    </tr>\n",
       "    <tr>\n",
       "      <th>1</th>\n",
       "      <td>AL</td>\n",
       "      <td>143336</td>\n",
       "      <td>3351543</td>\n",
       "    </tr>\n",
       "    <tr>\n",
       "      <th>2</th>\n",
       "      <td>AM</td>\n",
       "      <td>334432</td>\n",
       "      <td>4207714</td>\n",
       "    </tr>\n",
       "    <tr>\n",
       "      <th>3</th>\n",
       "      <td>AP</td>\n",
       "      <td>89822</td>\n",
       "      <td>861773</td>\n",
       "    </tr>\n",
       "    <tr>\n",
       "      <th>4</th>\n",
       "      <td>BA</td>\n",
       "      <td>744015</td>\n",
       "      <td>14930634</td>\n",
       "    </tr>\n",
       "    <tr>\n",
       "      <th>5</th>\n",
       "      <td>CE</td>\n",
       "      <td>473430</td>\n",
       "      <td>9187103</td>\n",
       "    </tr>\n",
       "    <tr>\n",
       "      <th>6</th>\n",
       "      <td>DF</td>\n",
       "      <td>322686</td>\n",
       "      <td>3055149</td>\n",
       "    </tr>\n",
       "    <tr>\n",
       "      <th>7</th>\n",
       "      <td>ES</td>\n",
       "      <td>348092</td>\n",
       "      <td>4064052</td>\n",
       "    </tr>\n",
       "    <tr>\n",
       "      <th>8</th>\n",
       "      <td>GO</td>\n",
       "      <td>444028</td>\n",
       "      <td>7113540</td>\n",
       "    </tr>\n",
       "    <tr>\n",
       "      <th>9</th>\n",
       "      <td>MA</td>\n",
       "      <td>231075</td>\n",
       "      <td>7114598</td>\n",
       "    </tr>\n",
       "    <tr>\n",
       "      <th>10</th>\n",
       "      <td>MG</td>\n",
       "      <td>987466</td>\n",
       "      <td>21292666</td>\n",
       "    </tr>\n",
       "    <tr>\n",
       "      <th>11</th>\n",
       "      <td>MS</td>\n",
       "      <td>197541</td>\n",
       "      <td>2809394</td>\n",
       "    </tr>\n",
       "    <tr>\n",
       "      <th>12</th>\n",
       "      <td>MT</td>\n",
       "      <td>277537</td>\n",
       "      <td>3526220</td>\n",
       "    </tr>\n",
       "    <tr>\n",
       "      <th>13</th>\n",
       "      <td>PA</td>\n",
       "      <td>387960</td>\n",
       "      <td>8690745</td>\n",
       "    </tr>\n",
       "    <tr>\n",
       "      <th>14</th>\n",
       "      <td>PB</td>\n",
       "      <td>241592</td>\n",
       "      <td>4039277</td>\n",
       "    </tr>\n",
       "    <tr>\n",
       "      <th>15</th>\n",
       "      <td>PE</td>\n",
       "      <td>323176</td>\n",
       "      <td>9616621</td>\n",
       "    </tr>\n",
       "    <tr>\n",
       "      <th>16</th>\n",
       "      <td>PI</td>\n",
       "      <td>187960</td>\n",
       "      <td>3281480</td>\n",
       "    </tr>\n",
       "    <tr>\n",
       "      <th>17</th>\n",
       "      <td>PR</td>\n",
       "      <td>769966</td>\n",
       "      <td>11516840</td>\n",
       "    </tr>\n",
       "    <tr>\n",
       "      <th>18</th>\n",
       "      <td>RJ</td>\n",
       "      <td>612980</td>\n",
       "      <td>17366189</td>\n",
       "    </tr>\n",
       "    <tr>\n",
       "      <th>19</th>\n",
       "      <td>RN</td>\n",
       "      <td>182399</td>\n",
       "      <td>3534165</td>\n",
       "    </tr>\n",
       "    <tr>\n",
       "      <th>20</th>\n",
       "      <td>RO</td>\n",
       "      <td>170515</td>\n",
       "      <td>1796460</td>\n",
       "    </tr>\n",
       "    <tr>\n",
       "      <th>21</th>\n",
       "      <td>RR</td>\n",
       "      <td>83924</td>\n",
       "      <td>631181</td>\n",
       "    </tr>\n",
       "    <tr>\n",
       "      <th>22</th>\n",
       "      <td>RS</td>\n",
       "      <td>763794</td>\n",
       "      <td>11422973</td>\n",
       "    </tr>\n",
       "    <tr>\n",
       "      <th>23</th>\n",
       "      <td>SC</td>\n",
       "      <td>746620</td>\n",
       "      <td>7252502</td>\n",
       "    </tr>\n",
       "    <tr>\n",
       "      <th>24</th>\n",
       "      <td>SE</td>\n",
       "      <td>161841</td>\n",
       "      <td>2318822</td>\n",
       "    </tr>\n",
       "    <tr>\n",
       "      <th>25</th>\n",
       "      <td>SP</td>\n",
       "      <td>2243483</td>\n",
       "      <td>46289333</td>\n",
       "    </tr>\n",
       "    <tr>\n",
       "      <th>26</th>\n",
       "      <td>TO</td>\n",
       "      <td>128258</td>\n",
       "      <td>1590248</td>\n",
       "    </tr>\n",
       "  </tbody>\n",
       "</table>\n",
       "</div>"
      ],
      "text/plain": [
       "   estado  casos_acumulado populacao\n",
       "0      AC            63721    894470\n",
       "1      AL           143336   3351543\n",
       "2      AM           334432   4207714\n",
       "3      AP            89822    861773\n",
       "4      BA           744015  14930634\n",
       "5      CE           473430   9187103\n",
       "6      DF           322686   3055149\n",
       "7      ES           348092   4064052\n",
       "8      GO           444028   7113540\n",
       "9      MA           231075   7114598\n",
       "10     MG           987466  21292666\n",
       "11     MS           197541   2809394\n",
       "12     MT           277537   3526220\n",
       "13     PA           387960   8690745\n",
       "14     PB           241592   4039277\n",
       "15     PE           323176   9616621\n",
       "16     PI           187960   3281480\n",
       "17     PR           769966  11516840\n",
       "18     RJ           612980  17366189\n",
       "19     RN           182399   3534165\n",
       "20     RO           170515   1796460\n",
       "21     RR            83924    631181\n",
       "22     RS           763794  11422973\n",
       "23     SC           746620   7252502\n",
       "24     SE           161841   2318822\n",
       "25     SP          2243483  46289333\n",
       "26     TO           128258   1590248"
      ]
     },
     "execution_count": 29,
     "metadata": {},
     "output_type": "execute_result"
    }
   ],
   "source": [
    "df5_covid"
   ]
  },
  {
   "cell_type": "code",
   "execution_count": 30,
   "id": "contained-department",
   "metadata": {
    "ExecuteTime": {
     "end_time": "2021-04-08T18:44:04.138857Z",
     "start_time": "2021-04-08T18:44:04.123862Z"
    }
   },
   "outputs": [
    {
     "data": {
      "text/plain": [
       "array(['ALVARO DIAS', 'CABO DACIOLO', 'CIRO GOMES', 'EYMAEL',\n",
       "       'FERNANDO HADDAD', 'GERALDO ALCKMIN', 'GUILHERME BOULOS',\n",
       "       'HENRIQUE MEIRELLES', 'JAIR BOLSONARO', 'JOÃO AMOÊDO',\n",
       "       'JOÃO GOULART FILHO', 'MARINA SILVA', 'VERA'], dtype=object)"
      ]
     },
     "execution_count": 30,
     "metadata": {},
     "output_type": "execute_result"
    }
   ],
   "source": [
    "votos_uf = df1_election[['estado','candidato', '%validos']].groupby(['candidato', 'estado']).sum().reset_index()\n",
    "votos_uf['candidato'].unique()"
   ]
  },
  {
   "cell_type": "code",
   "execution_count": 31,
   "id": "written-adams",
   "metadata": {
    "ExecuteTime": {
     "end_time": "2021-04-08T18:44:04.170775Z",
     "start_time": "2021-04-08T18:44:04.139820Z"
    }
   },
   "outputs": [
    {
     "data": {
      "text/html": [
       "<div>\n",
       "<style scoped>\n",
       "    .dataframe tbody tr th:only-of-type {\n",
       "        vertical-align: middle;\n",
       "    }\n",
       "\n",
       "    .dataframe tbody tr th {\n",
       "        vertical-align: top;\n",
       "    }\n",
       "\n",
       "    .dataframe thead th {\n",
       "        text-align: right;\n",
       "    }\n",
       "</style>\n",
       "<table border=\"1\" class=\"dataframe\">\n",
       "  <thead>\n",
       "    <tr style=\"text-align: right;\">\n",
       "      <th></th>\n",
       "      <th>estado</th>\n",
       "      <th>candidato</th>\n",
       "      <th>%validos</th>\n",
       "    </tr>\n",
       "  </thead>\n",
       "  <tbody>\n",
       "    <tr>\n",
       "      <th>0</th>\n",
       "      <td>AC</td>\n",
       "      <td>ALVARO DIAS</td>\n",
       "      <td>0.36</td>\n",
       "    </tr>\n",
       "    <tr>\n",
       "      <th>1</th>\n",
       "      <td>AC</td>\n",
       "      <td>CABO DACIOLO</td>\n",
       "      <td>0.84</td>\n",
       "    </tr>\n",
       "    <tr>\n",
       "      <th>2</th>\n",
       "      <td>AC</td>\n",
       "      <td>CIRO GOMES</td>\n",
       "      <td>5.17</td>\n",
       "    </tr>\n",
       "    <tr>\n",
       "      <th>3</th>\n",
       "      <td>AC</td>\n",
       "      <td>EYMAEL</td>\n",
       "      <td>0.06</td>\n",
       "    </tr>\n",
       "    <tr>\n",
       "      <th>4</th>\n",
       "      <td>AC</td>\n",
       "      <td>FERNANDO HADDAD</td>\n",
       "      <td>18.53</td>\n",
       "    </tr>\n",
       "    <tr>\n",
       "      <th>...</th>\n",
       "      <td>...</td>\n",
       "      <td>...</td>\n",
       "      <td>...</td>\n",
       "    </tr>\n",
       "    <tr>\n",
       "      <th>359</th>\n",
       "      <td>TO</td>\n",
       "      <td>JAIR BOLSONARO</td>\n",
       "      <td>44.64</td>\n",
       "    </tr>\n",
       "    <tr>\n",
       "      <th>360</th>\n",
       "      <td>TO</td>\n",
       "      <td>JOÃO AMOÊDO</td>\n",
       "      <td>0.94</td>\n",
       "    </tr>\n",
       "    <tr>\n",
       "      <th>361</th>\n",
       "      <td>TO</td>\n",
       "      <td>JOÃO GOULART FILHO</td>\n",
       "      <td>0.02</td>\n",
       "    </tr>\n",
       "    <tr>\n",
       "      <th>362</th>\n",
       "      <td>TO</td>\n",
       "      <td>MARINA SILVA</td>\n",
       "      <td>0.96</td>\n",
       "    </tr>\n",
       "    <tr>\n",
       "      <th>363</th>\n",
       "      <td>TO</td>\n",
       "      <td>VERA</td>\n",
       "      <td>0.03</td>\n",
       "    </tr>\n",
       "  </tbody>\n",
       "</table>\n",
       "<p>364 rows × 3 columns</p>\n",
       "</div>"
      ],
      "text/plain": [
       "    estado           candidato  %validos\n",
       "0       AC         ALVARO DIAS      0.36\n",
       "1       AC        CABO DACIOLO      0.84\n",
       "2       AC          CIRO GOMES      5.17\n",
       "3       AC              EYMAEL      0.06\n",
       "4       AC     FERNANDO HADDAD     18.53\n",
       "..     ...                 ...       ...\n",
       "359     TO      JAIR BOLSONARO     44.64\n",
       "360     TO         JOÃO AMOÊDO      0.94\n",
       "361     TO  JOÃO GOULART FILHO      0.02\n",
       "362     TO        MARINA SILVA      0.96\n",
       "363     TO                VERA      0.03\n",
       "\n",
       "[364 rows x 3 columns]"
      ]
     },
     "execution_count": 31,
     "metadata": {},
     "output_type": "execute_result"
    }
   ],
   "source": [
    "#Filtering data df_election\n",
    "votos_uf = df1_election[['estado','candidato', '%validos']].groupby(['estado', 'candidato']).sum().reset_index()\n",
    "votos_uf\n",
    "#df_casos_estado = pd.DataFrame(df1_covid[['estado','casos_acumulado']].groupby(['estado']).sum().reset_index())\n",
    "#df_casos_estado"
   ]
  },
  {
   "cell_type": "code",
   "execution_count": 32,
   "id": "imperial-september",
   "metadata": {
    "ExecuteTime": {
     "end_time": "2021-04-08T18:44:04.186733Z",
     "start_time": "2021-04-08T18:44:04.171773Z"
    }
   },
   "outputs": [
    {
     "data": {
      "text/plain": [
       "array(['ALVARO DIAS', 'CABO DACIOLO', 'CIRO GOMES', 'EYMAEL',\n",
       "       'FERNANDO HADDAD', 'GERALDO ALCKMIN', 'GUILHERME BOULOS',\n",
       "       'HENRIQUE MEIRELLES', 'JAIR BOLSONARO', 'JOÃO AMOÊDO',\n",
       "       'JOÃO GOULART FILHO', 'MARINA SILVA', 'VERA'], dtype=object)"
      ]
     },
     "execution_count": 32,
     "metadata": {},
     "output_type": "execute_result"
    }
   ],
   "source": [
    "df5_election = pd.DataFrame(votos_uf, columns=['estado', 'candidato', '%validos'])\n",
    "df5_election['candidato'].unique()"
   ]
  },
  {
   "cell_type": "code",
   "execution_count": 33,
   "id": "conservative-limit",
   "metadata": {
    "ExecuteTime": {
     "end_time": "2021-04-08T18:44:04.483940Z",
     "start_time": "2021-04-08T18:44:04.187731Z"
    }
   },
   "outputs": [
    {
     "name": "stderr",
     "output_type": "stream",
     "text": [
      "<ipython-input-33-e4a91003e12b>:12: SettingWithCopyWarning: \n",
      "A value is trying to be set on a copy of a slice from a DataFrame\n",
      "\n",
      "See the caveats in the documentation: https://pandas.pydata.org/pandas-docs/stable/user_guide/indexing.html#returning-a-view-versus-a-copy\n",
      "  df5_covid['ciro'][i] = df5_election['%validos'][ii]\n",
      "<ipython-input-33-e4a91003e12b>:9: SettingWithCopyWarning: \n",
      "A value is trying to be set on a copy of a slice from a DataFrame\n",
      "\n",
      "See the caveats in the documentation: https://pandas.pydata.org/pandas-docs/stable/user_guide/indexing.html#returning-a-view-versus-a-copy\n",
      "  df5_covid['haddad'][i] = df5_election['%validos'][ii]\n",
      "<ipython-input-33-e4a91003e12b>:6: SettingWithCopyWarning: \n",
      "A value is trying to be set on a copy of a slice from a DataFrame\n",
      "\n",
      "See the caveats in the documentation: https://pandas.pydata.org/pandas-docs/stable/user_guide/indexing.html#returning-a-view-versus-a-copy\n",
      "  df5_covid['bolsonaro'][i] = df5_election['%validos'][ii]\n"
     ]
    }
   ],
   "source": [
    "df5_covid[['casos_populacao', 'bolsonaro', 'haddad', 'ciro', 'others']] = ''\n",
    "\n",
    "for i in range(len(df5_covid)):\n",
    "    for ii in range(len(df5_election)):\n",
    "        if (df5_election['estado'][ii] == df5_covid['estado'][i]) and (df5_election['candidato'][ii] == 'JAIR BOLSONARO'):\n",
    "            df5_covid['bolsonaro'][i] = df5_election['%validos'][ii]\n",
    "            \n",
    "        if (df5_election['estado'][ii] == df5_covid['estado'][i]) and (df5_election['candidato'][ii] == 'FERNANDO HADDAD'):\n",
    "            df5_covid['haddad'][i] = df5_election['%validos'][ii]\n",
    "            \n",
    "        if (df5_election['estado'][ii] == df5_covid['estado'][i]) and (df5_election['candidato'][ii] == 'CIRO GOMES'):\n",
    "            df5_covid['ciro'][i] = df5_election['%validos'][ii]"
   ]
  },
  {
   "cell_type": "code",
   "execution_count": 34,
   "id": "million-blade",
   "metadata": {
    "ExecuteTime": {
     "end_time": "2021-04-08T18:44:04.499896Z",
     "start_time": "2021-04-08T18:44:04.484936Z"
    }
   },
   "outputs": [
    {
     "data": {
      "text/plain": [
       "estado             object\n",
       "casos_acumulado     int64\n",
       "populacao           int32\n",
       "casos_populacao    object\n",
       "bolsonaro           int32\n",
       "haddad              int32\n",
       "ciro                int32\n",
       "others             object\n",
       "dtype: object"
      ]
     },
     "execution_count": 34,
     "metadata": {},
     "output_type": "execute_result"
    }
   ],
   "source": [
    "df5_covid[['populacao', 'bolsonaro', 'haddad', 'ciro']] = df5_covid[['populacao', 'bolsonaro', 'haddad', 'ciro']].astype(int)\n",
    "df5_covid.dtypes"
   ]
  },
  {
   "cell_type": "code",
   "execution_count": 35,
   "id": "genuine-moisture",
   "metadata": {
    "ExecuteTime": {
     "end_time": "2021-04-08T18:44:04.515959Z",
     "start_time": "2021-04-08T18:44:04.500893Z"
    }
   },
   "outputs": [],
   "source": [
    "df5_covid['casos_acumulado'] = df5_covid['casos_acumulado'].astype(int)"
   ]
  },
  {
   "cell_type": "code",
   "execution_count": 36,
   "id": "apparent-nicholas",
   "metadata": {
    "ExecuteTime": {
     "end_time": "2021-04-08T18:44:04.531944Z",
     "start_time": "2021-04-08T18:44:04.518950Z"
    }
   },
   "outputs": [],
   "source": [
    "# Calculating % of cases by population for each estate\n",
    "df5_covid['casos_populacao'] = (df5_covid['casos_acumulado'] / df5_covid['populacao']) * 100"
   ]
  },
  {
   "cell_type": "code",
   "execution_count": 37,
   "id": "sorted-identifier",
   "metadata": {
    "ExecuteTime": {
     "end_time": "2021-04-08T18:44:04.547115Z",
     "start_time": "2021-04-08T18:44:04.532943Z"
    }
   },
   "outputs": [],
   "source": [
    "df5_covid['others'] = 100 - (df5_covid['bolsonaro'] + df5_covid['haddad'] + df5_covid['ciro'])"
   ]
  },
  {
   "cell_type": "code",
   "execution_count": 53,
   "id": "verified-radar",
   "metadata": {
    "ExecuteTime": {
     "end_time": "2021-04-08T18:44:41.407283Z",
     "start_time": "2021-04-08T18:44:41.389332Z"
    }
   },
   "outputs": [
    {
     "data": {
      "text/html": [
       "<div>\n",
       "<style scoped>\n",
       "    .dataframe tbody tr th:only-of-type {\n",
       "        vertical-align: middle;\n",
       "    }\n",
       "\n",
       "    .dataframe tbody tr th {\n",
       "        vertical-align: top;\n",
       "    }\n",
       "\n",
       "    .dataframe thead th {\n",
       "        text-align: right;\n",
       "    }\n",
       "</style>\n",
       "<table border=\"1\" class=\"dataframe\">\n",
       "  <thead>\n",
       "    <tr style=\"text-align: right;\">\n",
       "      <th></th>\n",
       "      <th>estado</th>\n",
       "      <th>casos_acumulado</th>\n",
       "      <th>populacao</th>\n",
       "      <th>casos_populacao</th>\n",
       "      <th>bolsonaro</th>\n",
       "      <th>haddad</th>\n",
       "      <th>ciro</th>\n",
       "      <th>others</th>\n",
       "    </tr>\n",
       "  </thead>\n",
       "  <tbody>\n",
       "    <tr>\n",
       "      <th>21</th>\n",
       "      <td>RR</td>\n",
       "      <td>83924</td>\n",
       "      <td>631181</td>\n",
       "      <td>13.296344</td>\n",
       "      <td>62</td>\n",
       "      <td>17</td>\n",
       "      <td>5</td>\n",
       "      <td>16</td>\n",
       "    </tr>\n",
       "    <tr>\n",
       "      <th>6</th>\n",
       "      <td>DF</td>\n",
       "      <td>322686</td>\n",
       "      <td>3055149</td>\n",
       "      <td>10.562038</td>\n",
       "      <td>58</td>\n",
       "      <td>11</td>\n",
       "      <td>16</td>\n",
       "      <td>15</td>\n",
       "    </tr>\n",
       "    <tr>\n",
       "      <th>3</th>\n",
       "      <td>AP</td>\n",
       "      <td>89822</td>\n",
       "      <td>861773</td>\n",
       "      <td>10.422930</td>\n",
       "      <td>40</td>\n",
       "      <td>32</td>\n",
       "      <td>12</td>\n",
       "      <td>16</td>\n",
       "    </tr>\n",
       "    <tr>\n",
       "      <th>23</th>\n",
       "      <td>SC</td>\n",
       "      <td>746620</td>\n",
       "      <td>7252502</td>\n",
       "      <td>10.294654</td>\n",
       "      <td>65</td>\n",
       "      <td>15</td>\n",
       "      <td>6</td>\n",
       "      <td>14</td>\n",
       "    </tr>\n",
       "    <tr>\n",
       "      <th>20</th>\n",
       "      <td>RO</td>\n",
       "      <td>170515</td>\n",
       "      <td>1796460</td>\n",
       "      <td>9.491723</td>\n",
       "      <td>62</td>\n",
       "      <td>20</td>\n",
       "      <td>6</td>\n",
       "      <td>12</td>\n",
       "    </tr>\n",
       "    <tr>\n",
       "      <th>7</th>\n",
       "      <td>ES</td>\n",
       "      <td>348092</td>\n",
       "      <td>4064052</td>\n",
       "      <td>8.565146</td>\n",
       "      <td>54</td>\n",
       "      <td>24</td>\n",
       "      <td>9</td>\n",
       "      <td>13</td>\n",
       "    </tr>\n",
       "    <tr>\n",
       "      <th>26</th>\n",
       "      <td>TO</td>\n",
       "      <td>128258</td>\n",
       "      <td>1590248</td>\n",
       "      <td>8.065283</td>\n",
       "      <td>44</td>\n",
       "      <td>41</td>\n",
       "      <td>7</td>\n",
       "      <td>8</td>\n",
       "    </tr>\n",
       "    <tr>\n",
       "      <th>2</th>\n",
       "      <td>AM</td>\n",
       "      <td>334432</td>\n",
       "      <td>4207714</td>\n",
       "      <td>7.948069</td>\n",
       "      <td>43</td>\n",
       "      <td>40</td>\n",
       "      <td>7</td>\n",
       "      <td>10</td>\n",
       "    </tr>\n",
       "    <tr>\n",
       "      <th>12</th>\n",
       "      <td>MT</td>\n",
       "      <td>277537</td>\n",
       "      <td>3526220</td>\n",
       "      <td>7.870666</td>\n",
       "      <td>60</td>\n",
       "      <td>24</td>\n",
       "      <td>5</td>\n",
       "      <td>11</td>\n",
       "    </tr>\n",
       "    <tr>\n",
       "      <th>0</th>\n",
       "      <td>AC</td>\n",
       "      <td>63721</td>\n",
       "      <td>894470</td>\n",
       "      <td>7.123883</td>\n",
       "      <td>62</td>\n",
       "      <td>18</td>\n",
       "      <td>5</td>\n",
       "      <td>15</td>\n",
       "    </tr>\n",
       "    <tr>\n",
       "      <th>11</th>\n",
       "      <td>MS</td>\n",
       "      <td>197541</td>\n",
       "      <td>2809394</td>\n",
       "      <td>7.031445</td>\n",
       "      <td>55</td>\n",
       "      <td>23</td>\n",
       "      <td>8</td>\n",
       "      <td>14</td>\n",
       "    </tr>\n",
       "    <tr>\n",
       "      <th>24</th>\n",
       "      <td>SE</td>\n",
       "      <td>161841</td>\n",
       "      <td>2318822</td>\n",
       "      <td>6.979449</td>\n",
       "      <td>27</td>\n",
       "      <td>50</td>\n",
       "      <td>13</td>\n",
       "      <td>10</td>\n",
       "    </tr>\n",
       "    <tr>\n",
       "      <th>22</th>\n",
       "      <td>RS</td>\n",
       "      <td>763794</td>\n",
       "      <td>11422973</td>\n",
       "      <td>6.686473</td>\n",
       "      <td>52</td>\n",
       "      <td>22</td>\n",
       "      <td>11</td>\n",
       "      <td>15</td>\n",
       "    </tr>\n",
       "    <tr>\n",
       "      <th>17</th>\n",
       "      <td>PR</td>\n",
       "      <td>769966</td>\n",
       "      <td>11516840</td>\n",
       "      <td>6.685567</td>\n",
       "      <td>56</td>\n",
       "      <td>19</td>\n",
       "      <td>8</td>\n",
       "      <td>17</td>\n",
       "    </tr>\n",
       "    <tr>\n",
       "      <th>8</th>\n",
       "      <td>GO</td>\n",
       "      <td>444028</td>\n",
       "      <td>7113540</td>\n",
       "      <td>6.242012</td>\n",
       "      <td>57</td>\n",
       "      <td>21</td>\n",
       "      <td>8</td>\n",
       "      <td>14</td>\n",
       "    </tr>\n",
       "    <tr>\n",
       "      <th>14</th>\n",
       "      <td>PB</td>\n",
       "      <td>241592</td>\n",
       "      <td>4039277</td>\n",
       "      <td>5.981070</td>\n",
       "      <td>31</td>\n",
       "      <td>45</td>\n",
       "      <td>16</td>\n",
       "      <td>8</td>\n",
       "    </tr>\n",
       "    <tr>\n",
       "      <th>16</th>\n",
       "      <td>PI</td>\n",
       "      <td>187960</td>\n",
       "      <td>3281480</td>\n",
       "      <td>5.727903</td>\n",
       "      <td>18</td>\n",
       "      <td>63</td>\n",
       "      <td>11</td>\n",
       "      <td>8</td>\n",
       "    </tr>\n",
       "    <tr>\n",
       "      <th>19</th>\n",
       "      <td>RN</td>\n",
       "      <td>182399</td>\n",
       "      <td>3534165</td>\n",
       "      <td>5.161021</td>\n",
       "      <td>30</td>\n",
       "      <td>41</td>\n",
       "      <td>22</td>\n",
       "      <td>7</td>\n",
       "    </tr>\n",
       "    <tr>\n",
       "      <th>5</th>\n",
       "      <td>CE</td>\n",
       "      <td>473430</td>\n",
       "      <td>9187103</td>\n",
       "      <td>5.153202</td>\n",
       "      <td>21</td>\n",
       "      <td>33</td>\n",
       "      <td>40</td>\n",
       "      <td>6</td>\n",
       "    </tr>\n",
       "    <tr>\n",
       "      <th>4</th>\n",
       "      <td>BA</td>\n",
       "      <td>744015</td>\n",
       "      <td>14930634</td>\n",
       "      <td>4.983144</td>\n",
       "      <td>23</td>\n",
       "      <td>60</td>\n",
       "      <td>9</td>\n",
       "      <td>8</td>\n",
       "    </tr>\n",
       "    <tr>\n",
       "      <th>25</th>\n",
       "      <td>SP</td>\n",
       "      <td>2243483</td>\n",
       "      <td>46289333</td>\n",
       "      <td>4.846652</td>\n",
       "      <td>53</td>\n",
       "      <td>16</td>\n",
       "      <td>11</td>\n",
       "      <td>20</td>\n",
       "    </tr>\n",
       "    <tr>\n",
       "      <th>10</th>\n",
       "      <td>MG</td>\n",
       "      <td>987466</td>\n",
       "      <td>21292666</td>\n",
       "      <td>4.637587</td>\n",
       "      <td>48</td>\n",
       "      <td>27</td>\n",
       "      <td>11</td>\n",
       "      <td>14</td>\n",
       "    </tr>\n",
       "    <tr>\n",
       "      <th>13</th>\n",
       "      <td>PA</td>\n",
       "      <td>387960</td>\n",
       "      <td>8690745</td>\n",
       "      <td>4.464059</td>\n",
       "      <td>36</td>\n",
       "      <td>41</td>\n",
       "      <td>10</td>\n",
       "      <td>13</td>\n",
       "    </tr>\n",
       "    <tr>\n",
       "      <th>1</th>\n",
       "      <td>AL</td>\n",
       "      <td>143336</td>\n",
       "      <td>3351543</td>\n",
       "      <td>4.276717</td>\n",
       "      <td>34</td>\n",
       "      <td>44</td>\n",
       "      <td>10</td>\n",
       "      <td>12</td>\n",
       "    </tr>\n",
       "    <tr>\n",
       "      <th>18</th>\n",
       "      <td>RJ</td>\n",
       "      <td>612980</td>\n",
       "      <td>17366189</td>\n",
       "      <td>3.529732</td>\n",
       "      <td>59</td>\n",
       "      <td>14</td>\n",
       "      <td>15</td>\n",
       "      <td>12</td>\n",
       "    </tr>\n",
       "    <tr>\n",
       "      <th>15</th>\n",
       "      <td>PE</td>\n",
       "      <td>323176</td>\n",
       "      <td>9616621</td>\n",
       "      <td>3.360598</td>\n",
       "      <td>30</td>\n",
       "      <td>48</td>\n",
       "      <td>13</td>\n",
       "      <td>9</td>\n",
       "    </tr>\n",
       "    <tr>\n",
       "      <th>9</th>\n",
       "      <td>MA</td>\n",
       "      <td>231075</td>\n",
       "      <td>7114598</td>\n",
       "      <td>3.247900</td>\n",
       "      <td>24</td>\n",
       "      <td>61</td>\n",
       "      <td>8</td>\n",
       "      <td>7</td>\n",
       "    </tr>\n",
       "  </tbody>\n",
       "</table>\n",
       "</div>"
      ],
      "text/plain": [
       "   estado  casos_acumulado  populacao  casos_populacao  bolsonaro  haddad  \\\n",
       "21     RR            83924     631181        13.296344         62      17   \n",
       "6      DF           322686    3055149        10.562038         58      11   \n",
       "3      AP            89822     861773        10.422930         40      32   \n",
       "23     SC           746620    7252502        10.294654         65      15   \n",
       "20     RO           170515    1796460         9.491723         62      20   \n",
       "7      ES           348092    4064052         8.565146         54      24   \n",
       "26     TO           128258    1590248         8.065283         44      41   \n",
       "2      AM           334432    4207714         7.948069         43      40   \n",
       "12     MT           277537    3526220         7.870666         60      24   \n",
       "0      AC            63721     894470         7.123883         62      18   \n",
       "11     MS           197541    2809394         7.031445         55      23   \n",
       "24     SE           161841    2318822         6.979449         27      50   \n",
       "22     RS           763794   11422973         6.686473         52      22   \n",
       "17     PR           769966   11516840         6.685567         56      19   \n",
       "8      GO           444028    7113540         6.242012         57      21   \n",
       "14     PB           241592    4039277         5.981070         31      45   \n",
       "16     PI           187960    3281480         5.727903         18      63   \n",
       "19     RN           182399    3534165         5.161021         30      41   \n",
       "5      CE           473430    9187103         5.153202         21      33   \n",
       "4      BA           744015   14930634         4.983144         23      60   \n",
       "25     SP          2243483   46289333         4.846652         53      16   \n",
       "10     MG           987466   21292666         4.637587         48      27   \n",
       "13     PA           387960    8690745         4.464059         36      41   \n",
       "1      AL           143336    3351543         4.276717         34      44   \n",
       "18     RJ           612980   17366189         3.529732         59      14   \n",
       "15     PE           323176    9616621         3.360598         30      48   \n",
       "9      MA           231075    7114598         3.247900         24      61   \n",
       "\n",
       "    ciro  others  \n",
       "21     5      16  \n",
       "6     16      15  \n",
       "3     12      16  \n",
       "23     6      14  \n",
       "20     6      12  \n",
       "7      9      13  \n",
       "26     7       8  \n",
       "2      7      10  \n",
       "12     5      11  \n",
       "0      5      15  \n",
       "11     8      14  \n",
       "24    13      10  \n",
       "22    11      15  \n",
       "17     8      17  \n",
       "8      8      14  \n",
       "14    16       8  \n",
       "16    11       8  \n",
       "19    22       7  \n",
       "5     40       6  \n",
       "4      9       8  \n",
       "25    11      20  \n",
       "10    11      14  \n",
       "13    10      13  \n",
       "1     10      12  \n",
       "18    15      12  \n",
       "15    13       9  \n",
       "9      8       7  "
      ]
     },
     "execution_count": 53,
     "metadata": {},
     "output_type": "execute_result"
    }
   ],
   "source": [
    "df5_covid.sort_values(by = 'casos_populacao', ascending = False)"
   ]
  },
  {
   "cell_type": "markdown",
   "id": "nutritional-tragedy",
   "metadata": {},
   "source": [
    "# 3. EXPLORATORY DATA ANALYSIS"
   ]
  },
  {
   "cell_type": "code",
   "execution_count": 39,
   "id": "successful-flight",
   "metadata": {
    "ExecuteTime": {
     "end_time": "2021-04-08T18:44:04.907701Z",
     "start_time": "2021-04-08T18:44:04.579026Z"
    }
   },
   "outputs": [
    {
     "data": {
      "image/png": "[encoded data removed]",
      "text/plain": [
       "<Figure size 432x288 with 2 Axes>"
      ]
     },
     "metadata": {
      "needs_background": "light"
     },
     "output_type": "display_data"
    }
   ],
   "source": [
    "# Plotting a heatmap\n",
    "sns.heatmap(df5_covid.corr(method = 'pearson'), annot = True);"
   ]
  },
  {
   "cell_type": "markdown",
   "id": "conservative-crown",
   "metadata": {},
   "source": [
    "## 3.1 Analysing Bolsonaro X Cases in population"
   ]
  },
  {
   "cell_type": "code",
   "execution_count": 40,
   "id": "surprised-engineering",
   "metadata": {
    "ExecuteTime": {
     "end_time": "2021-04-08T18:44:05.161221Z",
     "start_time": "2021-04-08T18:44:04.910703Z"
    },
    "hide_input": false
   },
   "outputs": [
    {
     "data": {
      "image/png": "[encoded data removed]",
      "text/plain": [
       "<Figure size 1440x864 with 1 Axes>"
      ]
     },
     "metadata": {
      "needs_background": "light"
     },
     "output_type": "display_data"
    }
   ],
   "source": [
    "# Plotting a scatterplot (% votes in Bolsonaro X % cases in population)\n",
    "fig = plt.figure(figsize = (20, 12))\n",
    "sns.scatterplot(data = df5_covid, x = 'bolsonaro', y = 'casos_populacao', hue = 'casos_populacao', palette = \"rocket\",\n",
    "                size = 'casos_populacao', sizes = (100, 800))\n",
    "\n",
    "plt.title('CASOS COVID: Votos em Bolsonaro (%) x Casos por população (%)', fontsize = 25)\n",
    "plt.xlabel('% votos Bolsonaro (Eleição para presidente 2018 - 1º turno)', fontsize = 20)\n",
    "plt.ylabel('% casos acumulados/população até 17/mar/2021', fontsize = 20)\n",
    "plt.yticks(fontsize = 14)\n",
    "plt.xticks(fontsize = 14)\n",
    "plt.legend(['Casos população'], markerscale = 1, loc = 'upper left')\n",
    "\n",
    "plt.show();"
   ]
  },
  {
   "cell_type": "code",
   "execution_count": 41,
   "id": "cheap-prince",
   "metadata": {
    "ExecuteTime": {
     "end_time": "2021-04-08T18:44:05.510266Z",
     "start_time": "2021-04-08T18:44:05.162171Z"
    },
    "hide_input": false
   },
   "outputs": [
    {
     "data": {
      "image/png": "[encoded data removed]",
      "text/plain": [
       "<Figure size 1440x864 with 1 Axes>"
      ]
     },
     "metadata": {
      "needs_background": "light"
     },
     "output_type": "display_data"
    }
   ],
   "source": [
    "fig = plt.figure(figsize = (20, 12))\n",
    "sns.scatterplot(data = df5_covid, x = 'bolsonaro', y = 'casos_populacao', hue = 'casos_populacao', palette = \"rocket\",\n",
    "                size = 'casos_populacao', sizes = (100, 800))\n",
    "\n",
    "plt.title('CASOS COVID: Votos em Bolsonaro (%) x Casos por população (%)', fontsize = 25)\n",
    "plt.xlabel('% votos Bolsonaro (Eleição para presidente 2018 - 1º turno)', fontsize = 20)\n",
    "plt.ylabel('% casos acumulados/população até 17/mar/2021', fontsize = 20)\n",
    "plt.yticks(fontsize = 14)\n",
    "plt.xticks(fontsize = 14)\n",
    "plt.legend(markerscale = 0.5, loc='upper left')\n",
    "\n",
    "plt.annotate('AC', xy =(62.5, 7), fontsize = 20) \n",
    "plt.annotate('AL', xy =(42, 7.8), xytext =(33.3, 4.5), fontsize = 18) \n",
    "plt.annotate('AM', xy =(24, 3), xytext =(40.9, 7.8), fontsize = 18) \n",
    "plt.annotate('AP', xy =(40, 10.5), xytext =(40.6, 10.3), fontsize = 18) \n",
    "plt.annotate('BA', xy =(24, 3), xytext =(23.4, 4.9), fontsize = 18) \n",
    "plt.annotate('CE', xy =(21, 5), xytext =(20, 4.7), fontsize = 18) \n",
    "plt.annotate('DF', xy =(58, 10.5), xytext =(58.6, 10.5), fontsize = 18) \n",
    "plt.annotate('ES', xy =(54, 8.5), xytext =(54.6, 8.5), fontsize = 18) \n",
    "plt.annotate('GO', xy =(57, 6), xytext =(57.2, 5.9), fontsize = 18) \n",
    "plt.annotate('MA', xy =(24, 3), xytext =(24.4, 3.1), fontsize = 18) \n",
    "plt.annotate('MG', xy =(48, 4.6), xytext =(48.4, 4.5), fontsize = 18) \n",
    "plt.annotate('MS', xy =(55, 7), xytext =(53.6, 7.3), fontsize = 18) \n",
    "plt.annotate('MT', xy =(60, 8), xytext =(60.6, 7.8), fontsize = 18) \n",
    "plt.annotate('PA', xy =(36, 4.5), xytext =(36.4, 4.4), fontsize = 18) \n",
    "plt.annotate('PB', xy =(31, 6), xytext =(31.4, 5.9), fontsize = 18) \n",
    "plt.annotate('PE', xy =(30, 3.3), xytext =(30.4, 3.3), fontsize = 18) \n",
    "plt.annotate('PI', xy =(18, 5.5), xytext =(18.5, 5.6), fontsize = 18) \n",
    "plt.annotate('PR', xy =(56, 6.6), xytext =(56.5, 6.7), fontsize = 18) \n",
    "plt.annotate('RJ', xy =(59, 3.5), xytext =(59.3, 3.5), fontsize = 18) \n",
    "plt.annotate('RN', xy =(30, 5), xytext =(28.2, 5), fontsize = 18) \n",
    "plt.annotate('RO', xy =(62, 9.5), xytext =(62.7, 9.3), fontsize = 18) \n",
    "plt.annotate('RR', xy =(60, 13), xytext =(62.7, 13.2), fontsize = 18) \n",
    "plt.annotate('RS', xy =(52, 6.6), xytext =(51.5, 6.2), fontsize = 18) \n",
    "plt.annotate('SC', xy =(65, 12), xytext =(64.4, 10.6), fontsize = 18) \n",
    "plt.annotate('SE', xy =(27, 7), xytext =(27.5, 6.9), fontsize = 18) \n",
    "plt.annotate('SP', xy =(53, 5), xytext =(53.4, 4.8), fontsize = 18) \n",
    "plt.annotate('TO', xy =(44, 8), xytext =(44.6, 8), fontsize = 18) \n",
    "\n",
    "plt.annotate('r  = 0.55', xy =(44, 8), xytext =(19, 13.3), fontsize = 20, color = 'red', weight = 'bold', family = 'monospace')\n",
    "plt.annotate('r² = 0.3', xy =(44, 8), xytext =(19, 12.8), fontsize = 20, color = 'red', weight = 'bold', family = 'monospace')\n",
    "\n",
    "#annotations = df5_covid['estado']\n",
    "#for i, label in enumerate(annotations):\n",
    "#    plt.text(df5_covid['bolsonaro'][i], df5_covid['casos_populacao'][i], label, fontsize = 25)\n",
    "\n",
    "plt.show();"
   ]
  },
  {
   "cell_type": "code",
   "execution_count": 42,
   "id": "western-cleanup",
   "metadata": {
    "ExecuteTime": {
     "end_time": "2021-04-08T18:44:05.526224Z",
     "start_time": "2021-04-08T18:44:05.512213Z"
    }
   },
   "outputs": [
    {
     "data": {
      "text/plain": [
       "0.5456524260333248"
      ]
     },
     "execution_count": 42,
     "metadata": {},
     "output_type": "execute_result"
    }
   ],
   "source": [
    "r, p = pearsonr(df5_covid['casos_populacao'], df5_covid['bolsonaro'])\n",
    "r\n",
    "#corr"
   ]
  },
  {
   "cell_type": "code",
   "execution_count": 43,
   "id": "built-traffic",
   "metadata": {
    "ExecuteTime": {
     "end_time": "2021-04-08T18:44:05.542195Z",
     "start_time": "2021-04-08T18:44:05.527208Z"
    }
   },
   "outputs": [
    {
     "data": {
      "text/plain": [
       "0.2977365700360529"
      ]
     },
     "execution_count": 43,
     "metadata": {},
     "output_type": "execute_result"
    }
   ],
   "source": [
    "r**2"
   ]
  },
  {
   "cell_type": "markdown",
   "id": "medical-night",
   "metadata": {
    "heading_collapsed": true
   },
   "source": [
    "## 3.2 Analysing Ciro X Cases in population"
   ]
  },
  {
   "cell_type": "code",
   "execution_count": 44,
   "id": "narrow-premiere",
   "metadata": {
    "ExecuteTime": {
     "end_time": "2021-04-08T18:44:05.780529Z",
     "start_time": "2021-04-08T18:44:05.543163Z"
    },
    "hidden": true
   },
   "outputs": [
    {
     "data": {
      "image/png": "[encoded data removed]",
      "text/plain": [
       "<Figure size 1440x864 with 1 Axes>"
      ]
     },
     "metadata": {
      "needs_background": "light"
     },
     "output_type": "display_data"
    }
   ],
   "source": [
    "fig = plt.figure(figsize = (20, 12))\n",
    "sns.scatterplot(data = df5_covid, x = 'haddad', y = 'casos_populacao', hue = 'casos_populacao', palette = \"rocket\",\n",
    "                size = 'casos_populacao', sizes = (100, 800))\n",
    "\n",
    "plt.title('CASOS COVID: Votos em Haddad (%) x Casos por população (%)', fontsize = 25)\n",
    "plt.xlabel('% votos Haddad (Eleição para presidente 2018 - 1º turno)', fontsize = 20)\n",
    "plt.ylabel('% casos acumulados/população até 17/mar/2021', fontsize = 20)\n",
    "plt.yticks(fontsize = 14)\n",
    "plt.xticks(fontsize = 14)\n",
    "plt.legend(markerscale = 0.5, loc='upper right')\n",
    "\n",
    "plt.annotate('r  = -0.29', xy =(38, 8), xytext =(54, 13.3), fontsize = 20, color = 'red', weight = 'bold', family = 'monospace')\n",
    "plt.annotate('r² = 0.08', xy =(38, 8), xytext =(54, 12.8), fontsize = 20, color = 'red', weight = 'bold', family = 'monospace')\n",
    "\n",
    "plt.show();"
   ]
  },
  {
   "cell_type": "code",
   "execution_count": 45,
   "id": "packed-inquiry",
   "metadata": {
    "ExecuteTime": {
     "end_time": "2021-04-08T18:44:05.796497Z",
     "start_time": "2021-04-08T18:44:05.781493Z"
    },
    "hidden": true
   },
   "outputs": [
    {
     "data": {
      "text/plain": [
       "(-0.29002655306696573, 0.14224905642980334)"
      ]
     },
     "execution_count": 45,
     "metadata": {},
     "output_type": "execute_result"
    }
   ],
   "source": [
    "r, p = pearsonr(df5_covid['casos_acumulado'], df5_covid['haddad'])\n",
    "r, p"
   ]
  },
  {
   "cell_type": "code",
   "execution_count": 46,
   "id": "gentle-adoption",
   "metadata": {
    "ExecuteTime": {
     "end_time": "2021-04-08T18:44:05.812445Z",
     "start_time": "2021-04-08T18:44:05.797483Z"
    },
    "hidden": true
   },
   "outputs": [
    {
     "data": {
      "text/plain": [
       "0.08411540148390549"
      ]
     },
     "execution_count": 46,
     "metadata": {},
     "output_type": "execute_result"
    }
   ],
   "source": [
    "r**2"
   ]
  },
  {
   "cell_type": "markdown",
   "id": "proud-bobby",
   "metadata": {
    "heading_collapsed": true
   },
   "source": [
    "## 3.3 Analysing Ciro X Cases in population"
   ]
  },
  {
   "cell_type": "code",
   "execution_count": 47,
   "id": "known-parcel",
   "metadata": {
    "ExecuteTime": {
     "end_time": "2021-04-08T18:44:06.067761Z",
     "start_time": "2021-04-08T18:44:05.814405Z"
    },
    "hidden": true,
    "scrolled": false
   },
   "outputs": [
    {
     "data": {
      "image/png": "[encoded data removed]",
      "text/plain": [
       "<Figure size 1440x864 with 1 Axes>"
      ]
     },
     "metadata": {
      "needs_background": "light"
     },
     "output_type": "display_data"
    }
   ],
   "source": [
    "fig = plt.figure(figsize = (20, 12))\n",
    "sns.scatterplot(data = df5_covid, x = 'ciro', y = 'casos_populacao', hue = 'casos_populacao', palette = \"rocket\",\n",
    "                size = 'casos_populacao', sizes = (100, 800))\n",
    "\n",
    "plt.title('CASOS COVID: Votos em Ciro (%) x Casos por população (%)', fontsize = 25)\n",
    "plt.xlabel('% votos Ciro (Eleição para presidente 2018 - 1º turno)', fontsize = 20)\n",
    "plt.ylabel('% casos acumulados/população até 17/mar/2021', fontsize = 20)\n",
    "plt.yticks(fontsize = 14)\n",
    "plt.xticks(fontsize = 14)\n",
    "plt.legend(markerscale = 0.5, loc='upper right')\n",
    "\n",
    "plt.annotate('r  = 0.04', xy =(38, 8), xytext =(34, 13.3), fontsize = 20, color = 'red', weight = 'bold', family = 'monospace')\n",
    "plt.annotate('r² = 0.0016', xy =(38, 8), xytext =(34, 12.8), fontsize = 20, color = 'red', weight = 'bold', family = 'monospace')\n",
    "\n",
    "plt.show();"
   ]
  },
  {
   "cell_type": "code",
   "execution_count": 48,
   "id": "adverse-brisbane",
   "metadata": {
    "ExecuteTime": {
     "end_time": "2021-04-08T18:44:06.083810Z",
     "start_time": "2021-04-08T18:44:06.068725Z"
    },
    "hidden": true
   },
   "outputs": [
    {
     "data": {
      "text/plain": [
       "(0.040882816896584726, 0.8395527499723)"
      ]
     },
     "execution_count": 48,
     "metadata": {},
     "output_type": "execute_result"
    }
   ],
   "source": [
    "r, p = pearsonr(df5_covid['casos_acumulado'], df5_covid['ciro'])\n",
    "r, p"
   ]
  },
  {
   "cell_type": "code",
   "execution_count": 49,
   "id": "possible-intellectual",
   "metadata": {
    "ExecuteTime": {
     "end_time": "2021-04-08T18:44:06.099766Z",
     "start_time": "2021-04-08T18:44:06.084807Z"
    },
    "hidden": true
   },
   "outputs": [
    {
     "data": {
      "text/plain": [
       "0.0016714047173996736"
      ]
     },
     "execution_count": 49,
     "metadata": {},
     "output_type": "execute_result"
    }
   ],
   "source": [
    "r**2"
   ]
  },
  {
   "cell_type": "markdown",
   "id": "quality-dominican",
   "metadata": {},
   "source": [
    "## 3.4 Analysing Others candidates X Cases in population"
   ]
  },
  {
   "cell_type": "code",
   "execution_count": 50,
   "id": "civilian-astronomy",
   "metadata": {
    "ExecuteTime": {
     "end_time": "2021-04-08T18:44:06.305945Z",
     "start_time": "2021-04-08T18:44:06.100763Z"
    }
   },
   "outputs": [
    {
     "data": {
      "image/png": "[encoded data removed]",
      "text/plain": [
       "<Figure size 1440x864 with 1 Axes>"
      ]
     },
     "metadata": {
      "needs_background": "light"
     },
     "output_type": "display_data"
    }
   ],
   "source": [
    "fig = plt.figure(figsize = (20, 12))\n",
    "sns.scatterplot(data = df5_covid, x = 'others', y = 'casos_populacao', palette = \"rocket\", sizes = (100, 400))\n",
    "\n",
    "plt.title('CASOS COVID: Votos em demais candidatos (%) x Casos por população (%)', fontsize = 25)\n",
    "plt.xlabel('% votos demais candidatos (Eleição para presidente 2018 - 1º turno)', fontsize = 20)\n",
    "plt.ylabel('% casos acumulados/população até 17/mar/2021', fontsize = 20)\n",
    "plt.yticks(fontsize = 14)\n",
    "plt.xticks(fontsize = 14)\n",
    "\n",
    "plt.annotate('r  = 0.46', xy =(18, 12), xytext =(6, 13), fontsize = 20, color = 'red', weight = 'bold', family = 'monospace')\n",
    "plt.annotate('r² = 0.21', xy =(18, 11), xytext =(6, 12.5), fontsize = 20, color = 'red', weight = 'bold', family = 'monospace')\n",
    "\n",
    "annotations = df5_covid['estado']\n",
    "for i, label in enumerate(annotations):\n",
    "    plt.text(df5_covid['others'][i], df5_covid['casos_populacao'][i], label, fontsize = 20)\n",
    "\n",
    "plt.show();"
   ]
  },
  {
   "cell_type": "code",
   "execution_count": 51,
   "id": "norwegian-desire",
   "metadata": {
    "ExecuteTime": {
     "end_time": "2021-04-08T18:44:06.320903Z",
     "start_time": "2021-04-08T18:44:06.307939Z"
    }
   },
   "outputs": [
    {
     "data": {
      "text/plain": [
       "(0.46421436276358147, 0.014718175677664775)"
      ]
     },
     "execution_count": 51,
     "metadata": {},
     "output_type": "execute_result"
    }
   ],
   "source": [
    "r, p = pearsonr(df5_covid['casos_acumulado'], df5_covid['others'])\n",
    "r, p"
   ]
  },
  {
   "cell_type": "code",
   "execution_count": 52,
   "id": "embedded-baseball",
   "metadata": {
    "ExecuteTime": {
     "end_time": "2021-04-08T18:44:06.336863Z",
     "start_time": "2021-04-08T18:44:06.321901Z"
    }
   },
   "outputs": [
    {
     "data": {
      "text/plain": [
       "0.215494974595998"
      ]
     },
     "execution_count": 52,
     "metadata": {},
     "output_type": "execute_result"
    }
   ],
   "source": [
    "r**2"
   ]
  }
 ],
 "metadata": {
  "kernelspec": {
   "display_name": "Python 3",
   "language": "python",
   "name": "python3"
  },
  "language_info": {
   "codemirror_mode": {
    "name": "ipython",
    "version": 3
   },
   "file_extension": ".py",
   "mimetype": "text/x-python",
   "name": "python",
   "nbconvert_exporter": "python",
   "pygments_lexer": "ipython3",
   "version": "3.8.8"
  }
 },
 "nbformat": 4,
 "nbformat_minor": 5
}
